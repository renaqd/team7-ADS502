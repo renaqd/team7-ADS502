{
 "cells": [
  {
   "cell_type": "markdown",
   "id": "df43dba4-a874-4657-857c-656fe6f5c28b",
   "metadata": {},
   "source": [
    "## Purpose and Objective\n",
    "\n",
    "The purpose of this data mining project is to study an issue that affects healthcare economics. The objective is to understand the dataset through EDA and use various machine learning models to predic payment trends."
   ]
  },
  {
   "cell_type": "code",
   "execution_count": 1,
   "id": "a2b26e9b-672c-4458-8933-f9839dce0c80",
   "metadata": {},
   "outputs": [],
   "source": [
    "#import libraries\n",
    "import pandas as pd\n",
    "from xgboost import XGBClassifier\n",
    "from sklearn.model_selection import train_test_split\n",
    "\n",
    "# for Mac errors\n",
    "import warnings\n",
    "warnings.filterwarnings(\"ignore\")\n",
    "\n",
    "import matplotlib.pyplot as plt\n",
    "import matplotlib.patches as mpatches\n",
    "import matplotlib.ticker as ticker\n",
    "import numpy as np\n",
    "\n",
    "import seaborn as sns\n",
    "import matplotlib.pyplot as plt"
   ]
  },
  {
   "cell_type": "markdown",
   "id": "aa9a8b34-26d4-4843-9ecd-0580dde0f261",
   "metadata": {},
   "source": [
    "## Data Preprocessing\n",
    "\n",
    "Clean and prepare data for data analysis\n",
    "\n",
    "\n",
    "    1. Import Dataset\n",
    "    2. Remove punctuations causing errors\n",
    "    3. Convert attributes to proper data types\n",
    "    4. Handle null values\n",
    "    5. Handle payment column\n",
    "    6. Establish metrics\n",
    "    7. standardize numeric variables\n",
    "    8. identify outliers"
   ]
  },
  {
   "cell_type": "markdown",
   "id": "abca0d28-d504-4283-acc7-5fd4bcc98495",
   "metadata": {},
   "source": [
    "#### 1. Import Dataset"
   ]
  },
  {
   "cell_type": "code",
   "execution_count": 2,
   "id": "b7d38d58-bc97-4e63-8729-953665bc8dff",
   "metadata": {},
   "outputs": [
    {
     "data": {
      "text/html": [
       "<div>\n",
       "<style scoped>\n",
       "    .dataframe tbody tr th:only-of-type {\n",
       "        vertical-align: middle;\n",
       "    }\n",
       "\n",
       "    .dataframe tbody tr th {\n",
       "        vertical-align: top;\n",
       "    }\n",
       "\n",
       "    .dataframe thead th {\n",
       "        text-align: right;\n",
       "    }\n",
       "</style>\n",
       "<table border=\"1\" class=\"dataframe\">\n",
       "  <thead>\n",
       "    <tr style=\"text-align: right;\">\n",
       "      <th></th>\n",
       "      <th>reference_period</th>\n",
       "      <th>type_of_service</th>\n",
       "      <th>aggregation_level</th>\n",
       "      <th>cbsa</th>\n",
       "      <th>cbsatitle</th>\n",
       "      <th>number_of_fee_for_service_beneficiaries</th>\n",
       "      <th>number_of_providers</th>\n",
       "      <th>average_number_of_users_per_provider</th>\n",
       "      <th>percentage_of_users_out_of_ffs_beneficiaries</th>\n",
       "      <th>number_of_users</th>\n",
       "      <th>...</th>\n",
       "      <th>average_number_of_providers_per_cbsa_dual_color</th>\n",
       "      <th>average_number_of_providers_per_cbsa_description</th>\n",
       "      <th>number_of_dual_eligible_users_dual_color</th>\n",
       "      <th>number_of_dual_eligible_users_description</th>\n",
       "      <th>percentage_of_dual_eligible_users_out_of_total_users_dual_color</th>\n",
       "      <th>percentage_of_dual_eligible_users_out_of_total_users_description</th>\n",
       "      <th>percentage_of_dual_eligible_users_out_of_dual_eligible_ffs_beneficiaries_dual_color</th>\n",
       "      <th>percentage_of_dual_eligible_users_out_of_dual_eligible_ffs_beneficiaries_dual_color_description</th>\n",
       "      <th>total_payment_dual_color</th>\n",
       "      <th>total_payment_description</th>\n",
       "    </tr>\n",
       "  </thead>\n",
       "  <tbody>\n",
       "    <tr>\n",
       "      <th>0</th>\n",
       "      <td>2015-01-01 to 2015-12-31</td>\n",
       "      <td>Ambulance (Emergency &amp; Non-Emergency)</td>\n",
       "      <td>NATION + TERRITORIES</td>\n",
       "      <td>--ALL--</td>\n",
       "      <td>--ALL--</td>\n",
       "      <td>37,359,009</td>\n",
       "      <td>9,078</td>\n",
       "      <td>424.34</td>\n",
       "      <td>10.31%</td>\n",
       "      <td>3,852,199</td>\n",
       "      <td>...</td>\n",
       "      <td></td>\n",
       "      <td></td>\n",
       "      <td></td>\n",
       "      <td></td>\n",
       "      <td></td>\n",
       "      <td></td>\n",
       "      <td></td>\n",
       "      <td></td>\n",
       "      <td></td>\n",
       "      <td></td>\n",
       "    </tr>\n",
       "    <tr>\n",
       "      <th>1</th>\n",
       "      <td>2015-01-01 to 2015-12-31</td>\n",
       "      <td>Ambulance (Emergency &amp; Non-Emergency)</td>\n",
       "      <td>CBSA</td>\n",
       "      <td>10100</td>\n",
       "      <td>Aberdeen, SD</td>\n",
       "      <td>7,526</td>\n",
       "      <td>3</td>\n",
       "      <td>231</td>\n",
       "      <td>9.21%</td>\n",
       "      <td>693</td>\n",
       "      <td>...</td>\n",
       "      <td>BLUE 1</td>\n",
       "      <td>Lowest 25% (Less than 5.00 Providers)</td>\n",
       "      <td>BLUE 2</td>\n",
       "      <td>Second Lowest 25% (166 - 349 Dual Eligible Users)</td>\n",
       "      <td>BLUE 2</td>\n",
       "      <td>Second Lowest 25% (21.67% - 26.95% of Total Us...</td>\n",
       "      <td>BLUE 3</td>\n",
       "      <td>Third Lowest 25% (17.06% - 19.32% of Total FFS...</td>\n",
       "      <td>BLUE 2</td>\n",
       "      <td>Second Lowest 25% ($525,929.51 - $1,042,852.56 )</td>\n",
       "    </tr>\n",
       "    <tr>\n",
       "      <th>2</th>\n",
       "      <td>2015-01-01 to 2015-12-31</td>\n",
       "      <td>Ambulance (Emergency &amp; Non-Emergency)</td>\n",
       "      <td>CBSA</td>\n",
       "      <td>10140</td>\n",
       "      <td>Aberdeen, WA</td>\n",
       "      <td>17,349</td>\n",
       "      <td>18</td>\n",
       "      <td>110.44</td>\n",
       "      <td>11.46%</td>\n",
       "      <td>1,988</td>\n",
       "      <td>...</td>\n",
       "      <td>BLUE 4</td>\n",
       "      <td>Top 25% Excl. Extreme Values (16.00 - 32.49 Pr...</td>\n",
       "      <td>BLUE 3</td>\n",
       "      <td>Third Lowest 25% (350 - 845 Dual Eligible Users)</td>\n",
       "      <td>BLUE 4</td>\n",
       "      <td>Top 25% Excl. Extreme Values (33.58% - 51.44% ...</td>\n",
       "      <td>BLUE 4</td>\n",
       "      <td>Top 25% Excl. Extreme Values (19.33% - 27.78% ...</td>\n",
       "      <td>BLUE 3</td>\n",
       "      <td>Third Lowest 25% ($1,042,852.57 - $2,686,138.28 )</td>\n",
       "    </tr>\n",
       "    <tr>\n",
       "      <th>3</th>\n",
       "      <td>2015-01-01 to 2015-12-31</td>\n",
       "      <td>Ambulance (Emergency &amp; Non-Emergency)</td>\n",
       "      <td>CBSA</td>\n",
       "      <td>10180</td>\n",
       "      <td>Abilene, TX</td>\n",
       "      <td>25,198</td>\n",
       "      <td>11</td>\n",
       "      <td>271.09</td>\n",
       "      <td>11.83%</td>\n",
       "      <td>2,982</td>\n",
       "      <td>...</td>\n",
       "      <td>BLUE 3</td>\n",
       "      <td>Third Lowest 25% (9.00 - 15.99 Providers)</td>\n",
       "      <td>BLUE 4</td>\n",
       "      <td>Top 25% Excl. Extreme Values (846 - 1,864 Dual...</td>\n",
       "      <td>BLUE 3</td>\n",
       "      <td>Third Lowest 25% (26.96% - 33.57% of Total Users)</td>\n",
       "      <td>BLUE 4</td>\n",
       "      <td>Top 25% Excl. Extreme Values (19.33% - 27.78% ...</td>\n",
       "      <td>BLUE 3</td>\n",
       "      <td>Third Lowest 25% ($1,042,852.57 - $2,686,138.28 )</td>\n",
       "    </tr>\n",
       "    <tr>\n",
       "      <th>4</th>\n",
       "      <td>2015-01-01 to 2015-12-31</td>\n",
       "      <td>Ambulance (Emergency &amp; Non-Emergency)</td>\n",
       "      <td>CBSA</td>\n",
       "      <td>10220</td>\n",
       "      <td>Ada, OK</td>\n",
       "      <td>7,570</td>\n",
       "      <td>5</td>\n",
       "      <td>104.8</td>\n",
       "      <td>6.92%</td>\n",
       "      <td>524</td>\n",
       "      <td>...</td>\n",
       "      <td>BLUE 2</td>\n",
       "      <td>Second Lowest 25% (5.00 - 8.99 Providers)</td>\n",
       "      <td>BLUE 2</td>\n",
       "      <td>Second Lowest 25% (166 - 349 Dual Eligible Users)</td>\n",
       "      <td>BLUE 4</td>\n",
       "      <td>Top 25% Excl. Extreme Values (33.58% - 51.44% ...</td>\n",
       "      <td>BLUE 1</td>\n",
       "      <td>Lowest 25% (Less than 13.69% of Total FFS Bene...</td>\n",
       "      <td>BLUE 1</td>\n",
       "      <td>Lowest 25% (Less than $525,929.51 )</td>\n",
       "    </tr>\n",
       "  </tbody>\n",
       "</table>\n",
       "<p>5 rows × 35 columns</p>\n",
       "</div>"
      ],
      "text/plain": [
       "           reference_period                        type_of_service  \\\n",
       "0  2015-01-01 to 2015-12-31  Ambulance (Emergency & Non-Emergency)   \n",
       "1  2015-01-01 to 2015-12-31  Ambulance (Emergency & Non-Emergency)   \n",
       "2  2015-01-01 to 2015-12-31  Ambulance (Emergency & Non-Emergency)   \n",
       "3  2015-01-01 to 2015-12-31  Ambulance (Emergency & Non-Emergency)   \n",
       "4  2015-01-01 to 2015-12-31  Ambulance (Emergency & Non-Emergency)   \n",
       "\n",
       "      aggregation_level     cbsa     cbsatitle  \\\n",
       "0  NATION + TERRITORIES  --ALL--       --ALL--   \n",
       "1                  CBSA    10100  Aberdeen, SD   \n",
       "2                  CBSA    10140  Aberdeen, WA   \n",
       "3                  CBSA    10180   Abilene, TX   \n",
       "4                  CBSA    10220       Ada, OK   \n",
       "\n",
       "  number_of_fee_for_service_beneficiaries number_of_providers  \\\n",
       "0                              37,359,009               9,078   \n",
       "1                                   7,526                   3   \n",
       "2                                  17,349                  18   \n",
       "3                                  25,198                  11   \n",
       "4                                   7,570                   5   \n",
       "\n",
       "  average_number_of_users_per_provider  \\\n",
       "0                               424.34   \n",
       "1                                  231   \n",
       "2                               110.44   \n",
       "3                               271.09   \n",
       "4                                104.8   \n",
       "\n",
       "  percentage_of_users_out_of_ffs_beneficiaries number_of_users  ...  \\\n",
       "0                                       10.31%       3,852,199  ...   \n",
       "1                                        9.21%             693  ...   \n",
       "2                                       11.46%           1,988  ...   \n",
       "3                                       11.83%           2,982  ...   \n",
       "4                                        6.92%             524  ...   \n",
       "\n",
       "  average_number_of_providers_per_cbsa_dual_color  \\\n",
       "0                                                   \n",
       "1                                          BLUE 1   \n",
       "2                                          BLUE 4   \n",
       "3                                          BLUE 3   \n",
       "4                                          BLUE 2   \n",
       "\n",
       "    average_number_of_providers_per_cbsa_description  \\\n",
       "0                                                      \n",
       "1              Lowest 25% (Less than 5.00 Providers)   \n",
       "2  Top 25% Excl. Extreme Values (16.00 - 32.49 Pr...   \n",
       "3          Third Lowest 25% (9.00 - 15.99 Providers)   \n",
       "4          Second Lowest 25% (5.00 - 8.99 Providers)   \n",
       "\n",
       "  number_of_dual_eligible_users_dual_color  \\\n",
       "0                                            \n",
       "1                                   BLUE 2   \n",
       "2                                   BLUE 3   \n",
       "3                                   BLUE 4   \n",
       "4                                   BLUE 2   \n",
       "\n",
       "           number_of_dual_eligible_users_description  \\\n",
       "0                                                      \n",
       "1  Second Lowest 25% (166 - 349 Dual Eligible Users)   \n",
       "2   Third Lowest 25% (350 - 845 Dual Eligible Users)   \n",
       "3  Top 25% Excl. Extreme Values (846 - 1,864 Dual...   \n",
       "4  Second Lowest 25% (166 - 349 Dual Eligible Users)   \n",
       "\n",
       "  percentage_of_dual_eligible_users_out_of_total_users_dual_color  \\\n",
       "0                                                                   \n",
       "1                                             BLUE 2                \n",
       "2                                             BLUE 4                \n",
       "3                                             BLUE 3                \n",
       "4                                             BLUE 4                \n",
       "\n",
       "  percentage_of_dual_eligible_users_out_of_total_users_description  \\\n",
       "0                                                                    \n",
       "1  Second Lowest 25% (21.67% - 26.95% of Total Us...                 \n",
       "2  Top 25% Excl. Extreme Values (33.58% - 51.44% ...                 \n",
       "3  Third Lowest 25% (26.96% - 33.57% of Total Users)                 \n",
       "4  Top 25% Excl. Extreme Values (33.58% - 51.44% ...                 \n",
       "\n",
       "  percentage_of_dual_eligible_users_out_of_dual_eligible_ffs_beneficiaries_dual_color  \\\n",
       "0                                                                                       \n",
       "1                                             BLUE 3                                    \n",
       "2                                             BLUE 4                                    \n",
       "3                                             BLUE 4                                    \n",
       "4                                             BLUE 1                                    \n",
       "\n",
       "  percentage_of_dual_eligible_users_out_of_dual_eligible_ffs_beneficiaries_dual_color_description  \\\n",
       "0                                                                                                   \n",
       "1  Third Lowest 25% (17.06% - 19.32% of Total FFS...                                                \n",
       "2  Top 25% Excl. Extreme Values (19.33% - 27.78% ...                                                \n",
       "3  Top 25% Excl. Extreme Values (19.33% - 27.78% ...                                                \n",
       "4  Lowest 25% (Less than 13.69% of Total FFS Bene...                                                \n",
       "\n",
       "  total_payment_dual_color                          total_payment_description  \n",
       "0                                                                              \n",
       "1                   BLUE 2   Second Lowest 25% ($525,929.51 - $1,042,852.56 )  \n",
       "2                   BLUE 3  Third Lowest 25% ($1,042,852.57 - $2,686,138.28 )  \n",
       "3                   BLUE 3  Third Lowest 25% ($1,042,852.57 - $2,686,138.28 )  \n",
       "4                   BLUE 1                Lowest 25% (Less than $525,929.51 )  \n",
       "\n",
       "[5 rows x 35 columns]"
      ]
     },
     "execution_count": 2,
     "metadata": {},
     "output_type": "execute_result"
    }
   ],
   "source": [
    "# load data\n",
    "full_cbsa = pd.read_csv(\"cbsa2.csv\")\n",
    "full_cbsa.head(5)"
   ]
  },
  {
   "cell_type": "code",
   "execution_count": 3,
   "id": "4b50ef25-9a0d-4df8-aa74-ea1f97ecaea8",
   "metadata": {},
   "outputs": [
    {
     "data": {
      "text/plain": [
       "(163035, 35)"
      ]
     },
     "execution_count": 3,
     "metadata": {},
     "output_type": "execute_result"
    }
   ],
   "source": [
    "full_cbsa.shape"
   ]
  },
  {
   "cell_type": "code",
   "execution_count": 4,
   "id": "f6bb7ccd-ac19-4f26-9439-d7e4804af8e1",
   "metadata": {},
   "outputs": [
    {
     "data": {
      "text/html": [
       "<div>\n",
       "<style scoped>\n",
       "    .dataframe tbody tr th:only-of-type {\n",
       "        vertical-align: middle;\n",
       "    }\n",
       "\n",
       "    .dataframe tbody tr th {\n",
       "        vertical-align: top;\n",
       "    }\n",
       "\n",
       "    .dataframe thead th {\n",
       "        text-align: right;\n",
       "    }\n",
       "</style>\n",
       "<table border=\"1\" class=\"dataframe\">\n",
       "  <thead>\n",
       "    <tr style=\"text-align: right;\">\n",
       "      <th></th>\n",
       "      <th>reference_period</th>\n",
       "      <th>type_of_service</th>\n",
       "      <th>aggregation_level</th>\n",
       "      <th>cbsa</th>\n",
       "      <th>cbsatitle</th>\n",
       "      <th>number_of_fee_for_service_beneficiaries</th>\n",
       "      <th>number_of_providers</th>\n",
       "      <th>average_number_of_users_per_provider</th>\n",
       "      <th>percentage_of_users_out_of_ffs_beneficiaries</th>\n",
       "      <th>number_of_users</th>\n",
       "      <th>average_number_of_providers_per_cbsa</th>\n",
       "      <th>number_of_dual_eligible_users</th>\n",
       "      <th>percentage_of_dual_eligible_users_out_of_total_users</th>\n",
       "      <th>percentage_of_dual_eligible_users_out_of_dual_eligible_ffs_beneficiaries</th>\n",
       "      <th>total_payment</th>\n",
       "    </tr>\n",
       "  </thead>\n",
       "  <tbody>\n",
       "    <tr>\n",
       "      <th>0</th>\n",
       "      <td>2015-01-01 to 2015-12-31</td>\n",
       "      <td>Ambulance (Emergency &amp; Non-Emergency)</td>\n",
       "      <td>NATION + TERRITORIES</td>\n",
       "      <td>--ALL--</td>\n",
       "      <td>--ALL--</td>\n",
       "      <td>37,359,009</td>\n",
       "      <td>9,078</td>\n",
       "      <td>424.34</td>\n",
       "      <td>10.31%</td>\n",
       "      <td>3,852,199</td>\n",
       "      <td>116.56</td>\n",
       "      <td>1,085,184</td>\n",
       "      <td>28.17%</td>\n",
       "      <td>17.24%</td>\n",
       "      <td>$3,430,203,620.67</td>\n",
       "    </tr>\n",
       "    <tr>\n",
       "      <th>1</th>\n",
       "      <td>2015-01-01 to 2015-12-31</td>\n",
       "      <td>Ambulance (Emergency &amp; Non-Emergency)</td>\n",
       "      <td>CBSA</td>\n",
       "      <td>10100</td>\n",
       "      <td>Aberdeen, SD</td>\n",
       "      <td>7,526</td>\n",
       "      <td>3</td>\n",
       "      <td>231</td>\n",
       "      <td>9.21%</td>\n",
       "      <td>693</td>\n",
       "      <td>3</td>\n",
       "      <td>174</td>\n",
       "      <td>25.11%</td>\n",
       "      <td>18.73%</td>\n",
       "      <td>$588,150.97</td>\n",
       "    </tr>\n",
       "    <tr>\n",
       "      <th>2</th>\n",
       "      <td>2015-01-01 to 2015-12-31</td>\n",
       "      <td>Ambulance (Emergency &amp; Non-Emergency)</td>\n",
       "      <td>CBSA</td>\n",
       "      <td>10140</td>\n",
       "      <td>Aberdeen, WA</td>\n",
       "      <td>17,349</td>\n",
       "      <td>18</td>\n",
       "      <td>110.44</td>\n",
       "      <td>11.46%</td>\n",
       "      <td>1,988</td>\n",
       "      <td>18</td>\n",
       "      <td>675</td>\n",
       "      <td>33.95%</td>\n",
       "      <td>19.55%</td>\n",
       "      <td>$1,786,700.58</td>\n",
       "    </tr>\n",
       "    <tr>\n",
       "      <th>3</th>\n",
       "      <td>2015-01-01 to 2015-12-31</td>\n",
       "      <td>Ambulance (Emergency &amp; Non-Emergency)</td>\n",
       "      <td>CBSA</td>\n",
       "      <td>10180</td>\n",
       "      <td>Abilene, TX</td>\n",
       "      <td>25,198</td>\n",
       "      <td>11</td>\n",
       "      <td>271.09</td>\n",
       "      <td>11.83%</td>\n",
       "      <td>2,982</td>\n",
       "      <td>11</td>\n",
       "      <td>907</td>\n",
       "      <td>30.42%</td>\n",
       "      <td>19.76%</td>\n",
       "      <td>$2,003,346.18</td>\n",
       "    </tr>\n",
       "    <tr>\n",
       "      <th>4</th>\n",
       "      <td>2015-01-01 to 2015-12-31</td>\n",
       "      <td>Ambulance (Emergency &amp; Non-Emergency)</td>\n",
       "      <td>CBSA</td>\n",
       "      <td>10220</td>\n",
       "      <td>Ada, OK</td>\n",
       "      <td>7,570</td>\n",
       "      <td>5</td>\n",
       "      <td>104.8</td>\n",
       "      <td>6.92%</td>\n",
       "      <td>524</td>\n",
       "      <td>5</td>\n",
       "      <td>183</td>\n",
       "      <td>34.92%</td>\n",
       "      <td>12.12%</td>\n",
       "      <td>$359,960.14</td>\n",
       "    </tr>\n",
       "  </tbody>\n",
       "</table>\n",
       "</div>"
      ],
      "text/plain": [
       "           reference_period                        type_of_service  \\\n",
       "0  2015-01-01 to 2015-12-31  Ambulance (Emergency & Non-Emergency)   \n",
       "1  2015-01-01 to 2015-12-31  Ambulance (Emergency & Non-Emergency)   \n",
       "2  2015-01-01 to 2015-12-31  Ambulance (Emergency & Non-Emergency)   \n",
       "3  2015-01-01 to 2015-12-31  Ambulance (Emergency & Non-Emergency)   \n",
       "4  2015-01-01 to 2015-12-31  Ambulance (Emergency & Non-Emergency)   \n",
       "\n",
       "      aggregation_level     cbsa     cbsatitle  \\\n",
       "0  NATION + TERRITORIES  --ALL--       --ALL--   \n",
       "1                  CBSA    10100  Aberdeen, SD   \n",
       "2                  CBSA    10140  Aberdeen, WA   \n",
       "3                  CBSA    10180   Abilene, TX   \n",
       "4                  CBSA    10220       Ada, OK   \n",
       "\n",
       "  number_of_fee_for_service_beneficiaries number_of_providers  \\\n",
       "0                              37,359,009               9,078   \n",
       "1                                   7,526                   3   \n",
       "2                                  17,349                  18   \n",
       "3                                  25,198                  11   \n",
       "4                                   7,570                   5   \n",
       "\n",
       "  average_number_of_users_per_provider  \\\n",
       "0                               424.34   \n",
       "1                                  231   \n",
       "2                               110.44   \n",
       "3                               271.09   \n",
       "4                                104.8   \n",
       "\n",
       "  percentage_of_users_out_of_ffs_beneficiaries number_of_users  \\\n",
       "0                                       10.31%       3,852,199   \n",
       "1                                        9.21%             693   \n",
       "2                                       11.46%           1,988   \n",
       "3                                       11.83%           2,982   \n",
       "4                                        6.92%             524   \n",
       "\n",
       "  average_number_of_providers_per_cbsa number_of_dual_eligible_users  \\\n",
       "0                               116.56                     1,085,184   \n",
       "1                                    3                           174   \n",
       "2                                   18                           675   \n",
       "3                                   11                           907   \n",
       "4                                    5                           183   \n",
       "\n",
       "  percentage_of_dual_eligible_users_out_of_total_users  \\\n",
       "0                                             28.17%     \n",
       "1                                             25.11%     \n",
       "2                                             33.95%     \n",
       "3                                             30.42%     \n",
       "4                                             34.92%     \n",
       "\n",
       "  percentage_of_dual_eligible_users_out_of_dual_eligible_ffs_beneficiaries  \\\n",
       "0                                             17.24%                         \n",
       "1                                             18.73%                         \n",
       "2                                             19.55%                         \n",
       "3                                             19.76%                         \n",
       "4                                             12.12%                         \n",
       "\n",
       "        total_payment  \n",
       "0  $3,430,203,620.67   \n",
       "1        $588,150.97   \n",
       "2      $1,786,700.58   \n",
       "3      $2,003,346.18   \n",
       "4        $359,960.14   "
      ]
     },
     "execution_count": 4,
     "metadata": {},
     "output_type": "execute_result"
    }
   ],
   "source": [
    "cbsa = full_cbsa.iloc[:, :15]\n",
    "cbsa.head()"
   ]
  },
  {
   "cell_type": "markdown",
   "id": "c6c32d74-870f-46b6-9796-84e453298b2f",
   "metadata": {},
   "source": [
    "<table style=\"border:1px solid black;\">\n",
    "  <tr>\n",
    "    <th width=\"200px\" style=\"background-color: lightgrey; border:1px solid black;\">Quantitative (interval)</th>\n",
    "    <th width=\"200px\" style=\"background-color: lightgrey; border:1px solid black;\">Quantitative (ratio)   </th>\n",
    "  </tr>\n",
    "  <tr>\n",
    "    <td style=\"background-color: lightblue; vertical-align: top; border:1px solid black;\">reference_period</td>\n",
    "    <td style=\"background-color: lightblue; vertical-align: top; border:1px solid black;\">number_of_fee_for_service_beneficiaries,\n",
    "number_of_providers,\n",
    "average_number_of_users_per_provider,\n",
    "percentage_of_users_out_of_ffs_beneficiaries,\n",
    "number_of_users,\n",
    "average_number_of_providers_per_cbsa,\n",
    "number_of_dual_eligible_users,\n",
    "percentage_of_dual_eligible_users_out_of_total_users,\n",
    "percentage_of_dual_eligible_users_out_of_dual_eligible_ffs_beneficiaries,\n",
    "total_payment\n",
    "</td>\n",
    "  </tr>\n",
    "</table>"
   ]
  },
  {
   "cell_type": "markdown",
   "id": "7fdf92d3-e35a-4f82-8e74-2ff81a6d0b23",
   "metadata": {},
   "source": [
    "<table>\n",
    "  <tr>\n",
    "    <th width=\"200px\" style=\"background-color: lightgrey; border:1px solid black;\">Qualitative (nominal)</th>\n",
    "    <th width=\"200px\" style=\"background-color: lightgrey; border:1px solid black;\">Qualitative (ordinal)</th>\n",
    "  </tr>\n",
    "  <tr>\n",
    "    <td style=\"background-color: lightblue; vertical-align: top; border:1px solid black;\">type_of_service,\n",
    "cbsa,\n",
    "cbsatitle\n",
    "    <td style=\"background-color: lightblue; vertical-align: top; border:1px solid black;\">\n",
    "aggregation_level\n",
    "    </td>\n",
    "  </tr>\n",
    "</table>"
   ]
  },
  {
   "cell_type": "markdown",
   "id": "87a64cc8-a066-4c75-86d6-0c6848046a05",
   "metadata": {},
   "source": [
    "#### 2. Remove Punctuations"
   ]
  },
  {
   "cell_type": "code",
   "execution_count": null,
   "id": "ac96f162-ed1d-470f-a721-18e5876f5a1f",
   "metadata": {},
   "outputs": [],
   "source": [
    "# remove percent and dollar signs\n",
    "cbsa = cbsa.replace('%', '', regex=True)\n",
    "cbsa = cbsa.replace('\\$', '', regex=True)\n",
    "\n",
    "# remove aggregate\n",
    "cbsa = cbsa[cbsa['cbsa'] != '--ALL--']"
   ]
  },
  {
   "cell_type": "code",
   "execution_count": null,
   "id": "0b28fc50-47c0-43ca-9fa1-b4e4a18a98ed",
   "metadata": {},
   "outputs": [],
   "source": [
    "# split reference period to start and end dates\n",
    "cbsa[['city', 'state']] = cbsa['cbsatitle'].str.split(', ', expand=True)\n",
    "cbsa.insert(0, 'state', cbsa.pop('state'))\n",
    "cbsa.insert(0, 'city', cbsa.pop('city'))\n",
    "# cbsa.drop([\"cbsatitle\"], axis = 1, inplace= True)"
   ]
  },
  {
   "cell_type": "code",
   "execution_count": null,
   "id": "74b141ff-1d4d-44db-978a-3a3663e41f02",
   "metadata": {},
   "outputs": [],
   "source": [
    "# split reference period to start and end dates\n",
    "cbsa[['start_date', 'end_date']] = cbsa['reference_period'].str.split(' to ', expand=True)\n",
    "cbsa.insert(0, 'end_date', cbsa.pop('end_date'))\n",
    "cbsa.insert(0, 'start_date', cbsa.pop('start_date'))\n",
    "cbsa.drop([\"reference_period\"], axis = 1, inplace= True)"
   ]
  },
  {
   "cell_type": "markdown",
   "id": "680ce65e-b486-412c-97f7-54c3d1c708b8",
   "metadata": {},
   "source": [
    "#### 3. Convert Attributes"
   ]
  },
  {
   "cell_type": "code",
   "execution_count": null,
   "id": "3cfd157e-a5b6-4bdc-8d05-98204eb07a77",
   "metadata": {},
   "outputs": [],
   "source": [
    "# convert date columns to datetime\n",
    "cbsa[['start_date', 'end_date']] = cbsa[['start_date', 'end_date']].apply(pd.to_datetime)"
   ]
  },
  {
   "cell_type": "code",
   "execution_count": null,
   "id": "43faf5b8-8785-4bb2-8579-982f8cbb98af",
   "metadata": {},
   "outputs": [],
   "source": [
    "# convert numerical variables to integer or float\n",
    "convert_numerical = [\n",
    "    'number_of_fee_for_service_beneficiaries',\n",
    "    'number_of_providers',\n",
    "    'number_of_users',\n",
    "    'number_of_dual_eligible_users',\n",
    "    'average_number_of_users_per_provider',\n",
    "    'percentage_of_users_out_of_ffs_beneficiaries',\n",
    "    'average_number_of_providers_per_cbsa',\n",
    "    'percentage_of_dual_eligible_users_out_of_total_users',\n",
    "    'percentage_of_dual_eligible_users_out_of_dual_eligible_ffs_beneficiaries',\n",
    "    'total_payment'\n",
    "]\n",
    "\n",
    "for column in convert_numerical:\n",
    "    cbsa[column] = cbsa[column].str.replace(' ', '').str.replace(',', '')\n",
    "    cbsa[column] = pd.to_numeric(cbsa[column], downcast=None)"
   ]
  },
  {
   "cell_type": "code",
   "execution_count": null,
   "id": "6945ec67-7500-4176-8fa5-d8fbadaf0d23",
   "metadata": {},
   "outputs": [],
   "source": [
    "# identify and convert to categorical\n",
    "convert_to_category = [\n",
    "    'type_of_service',\n",
    "    'cbsa',\n",
    "    'cbsatitle',\n",
    "    'city',\n",
    "    'state',\n",
    "    'aggregation_level',\n",
    "]\n",
    "cbsa[convert_to_category] = cbsa[convert_to_category].astype('category')"
   ]
  },
  {
   "cell_type": "code",
   "execution_count": null,
   "id": "40529e0a-275e-46d9-9f46-0b2285ed0214",
   "metadata": {},
   "outputs": [],
   "source": [
    "# confirm datatypes\n",
    "print(cbsa.dtypes)"
   ]
  },
  {
   "cell_type": "code",
   "execution_count": null,
   "id": "7a1e6d1a-21aa-4e89-b4d5-3a7eda3f34f2",
   "metadata": {},
   "outputs": [],
   "source": [
    "## Dictionary\n",
    "cbsa_dict={1:\"Start of The selected one-year time period of observations\",\n",
    "2:\"End of the selected one-year time period of observations\",\n",
    "3:\"City of the CBSA\",\n",
    "4:\"State or Territory of the CBSA\",\n",
    "5:\"The selected health service area\",\n",
    "6:\"A variable classifying the observation as the State, County, CBSA or Nation + Territories level\",\n",
    "7:\"Five digit code to specify CBSA to indicate Nation + Territories level\",\n",
    "8:\"CBSA name to indicate Nation + Territories\",\n",
    "9:\"Total number of FFS beneficiaries in selected geographic region for specified reference period and service area\",\n",
    "10:\"Total number of providers in selected geographic region for specified reference period and service area\",\n",
    "11:\"The average number of users per provider in selected geographic region for specified reference period and service area\",\n",
    "12:\"The percentage of users out of FFS beneficiaries in selected geographic region for specified reference period and service area\",\n",
    "13:\"The total number of users in selected geographic region for specified reference period and service area\",\n",
    "14:\"The average number of providers per CBSA for specified reference period and service area. Only populated for CBSAs\",\n",
    "15:\"The number of users qualifying for Medicare and any level of Medicaid coverage in selected geographic region for specified reference period and service area\",\n",
    "16:\"The percentage of dual eligible users out of the total number of users in selected geographic region for specified reference period and service area\",\n",
    "17:\"The percentage of dual eligible users out of the total number FFS beneficiaries in selected geographic region for specified reference period and service area\",\n",
    "18:\"The total payment in selected geographic region for specified reference period and service area\"}"
   ]
  },
  {
   "cell_type": "markdown",
   "id": "bf901922-9df7-47c4-9e87-b35be3517fe1",
   "metadata": {},
   "source": [
    "#### 4. Handle Null Values"
   ]
  },
  {
   "cell_type": "code",
   "execution_count": null,
   "id": "68ee85da-c489-4d94-834a-157946c34edc",
   "metadata": {},
   "outputs": [],
   "source": [
    "# check null values\n",
    "cbsa.isnull().sum()"
   ]
  },
  {
   "cell_type": "code",
   "execution_count": null,
   "id": "7e70dac3-25d0-499a-8e04-bdeefd80e024",
   "metadata": {},
   "outputs": [],
   "source": [
    "# check if cbsa have sufficient users to qualify\n",
    "cbsa.loc[cbsa['number_of_users'] == cbsa['number_of_users'].min(),'number_of_users']"
   ]
  },
  {
   "cell_type": "markdown",
   "id": "4e7c9926-c0ff-4386-8eea-f495a6f5c042",
   "metadata": {},
   "source": [
    "**Observation:** The lowest number of user is 11, meaning the providers should be defined by CMS. Requirement is 10 and above. There appears to be many that are close to the cutoff. There may have been technicalities that did not qualify the providers according to CMS criteria.\n",
    "\n",
    "**Investigate `average_number_of_users_per_provider`**"
   ]
  },
  {
   "cell_type": "code",
   "execution_count": null,
   "id": "4af34d9e-bd55-47a7-92a3-f2020625cbb5",
   "metadata": {},
   "outputs": [],
   "source": [
    "# impute number providers of 0 with previous data\n",
    "cbsa['number_of_providers'].replace(0, np.nan, inplace=True)"
   ]
  },
  {
   "cell_type": "code",
   "execution_count": null,
   "id": "9d646aca-4ea8-48cd-bf39-496dfc82f94b",
   "metadata": {},
   "outputs": [],
   "source": [
    "# create a subset of cbsa with complete dual data\n",
    "provider_subset = ['start_date','type_of_service','cbsa','number_of_providers']\n",
    "\n",
    "cbsa_provider = cbsa[provider_subset].sort_values('start_date').dropna().drop_duplicates(\n",
    "    subset=['type_of_service', 'cbsa'], keep='last')"
   ]
  },
  {
   "cell_type": "code",
   "execution_count": null,
   "id": "b44b4c97-271c-4ef2-a1e5-4efaa29fa624",
   "metadata": {},
   "outputs": [],
   "source": [
    "# fill missing values with the most recent available data\n",
    "match_cols1 = ['cbsa','type_of_service']\n",
    "cbsa = cbsa.set_index(match_cols1).fillna(cbsa_provider.set_index(match_cols1)).reset_index()"
   ]
  },
  {
   "cell_type": "code",
   "execution_count": null,
   "id": "8784d029-013f-4682-a207-d0e8603deeae",
   "metadata": {},
   "outputs": [],
   "source": [
    "# cbsa.to_csv('cbsa_providernum.csv', index=False)"
   ]
  },
  {
   "cell_type": "code",
   "execution_count": null,
   "id": "33ab3428-bdd7-48ae-8b58-ac8e0f28da92",
   "metadata": {},
   "outputs": [],
   "source": [
    "# due to provider circumstances 0\n",
    "cbsa['number_of_providers'] = cbsa['number_of_providers'].fillna(0)"
   ]
  },
  {
   "cell_type": "markdown",
   "id": "0313dc25-2399-4915-9076-701a7dd09e69",
   "metadata": {},
   "source": [
    "**Identify and remove outliers, under conditions that number of users are 10 but provider is 0**"
   ]
  },
  {
   "cell_type": "markdown",
   "id": "b0d3d5a9-2cad-4436-bba1-9b9e646800f5",
   "metadata": {},
   "source": [
    "**Investigate `number_of_dual_eligible_users`**\n",
    "\n",
    "    - replace missing values with same data from the most recent previous reference period\n",
    "    - estimate number of dual eligible using average qualifiers per type of sertice"
   ]
  },
  {
   "cell_type": "code",
   "execution_count": null,
   "id": "ada8b2a7-48e7-49c2-a1a0-b70971fdd60c",
   "metadata": {},
   "outputs": [],
   "source": [
    "# create a subset of cbsa with complete dual data\n",
    "dual_subset = ['start_date','type_of_service','cbsa','number_of_dual_eligible_users']\n",
    "\n",
    "cbsa_dual = cbsa[dual_subset].sort_values('start_date').dropna().drop_duplicates(\n",
    "    subset=['type_of_service', 'cbsa'], keep='last')"
   ]
  },
  {
   "cell_type": "code",
   "execution_count": null,
   "id": "f9451f7d-9dfa-4de5-84a2-da48b6df8d13",
   "metadata": {},
   "outputs": [],
   "source": [
    "# fill missing values with the most recent available data\n",
    "match_cols2 = ['cbsa','type_of_service']\n",
    "cbsa = cbsa.set_index(match_cols2).fillna(cbsa_dual.set_index(match_cols2)).reset_index()"
   ]
  },
  {
   "cell_type": "code",
   "execution_count": null,
   "id": "c8fc91fa-1518-41fd-98c0-781302e95009",
   "metadata": {},
   "outputs": [],
   "source": [
    "# aggregate mean of percentage_of_dual_eligible_users_out_of_total_users per service type\n",
    "\n",
    "mean_percentage_service = cbsa.groupby('type_of_service')['percentage_of_dual_eligible_users_out_of_total_users'].mean()\n",
    "mean_percentage_service = mean_percentage_service.reset_index()\n",
    "mean_percentage_service"
   ]
  },
  {
   "cell_type": "code",
   "execution_count": null,
   "id": "db19c2a2-fb97-4e7a-8581-f5c14e8295fe",
   "metadata": {},
   "outputs": [],
   "source": [
    "match_mean_dual_service = ['type_of_service']\n",
    "cbsa = cbsa.set_index(match_mean_dual_service).fillna(mean_percentage_service.set_index(match_mean_dual_service)).reset_index()"
   ]
  },
  {
   "cell_type": "code",
   "execution_count": null,
   "id": "efa1bb35-9c7e-4950-a5b7-a3897976c930",
   "metadata": {},
   "outputs": [],
   "source": [
    "# fill nulls of average_number_of_users_per_provider with num users/num providers\n",
    "fill_avg_users_per_provider = cbsa['number_of_users']/cbsa['number_of_providers']\n",
    "cbsa['average_number_of_users_per_provider'].fillna(fill_avg_users_per_provider, inplace=True)\n",
    "cbsa['average_number_of_users_per_provider'].replace(np.inf, 0, inplace=True)"
   ]
  },
  {
   "cell_type": "code",
   "execution_count": null,
   "id": "9b49a6b5-08f0-4697-8362-477ceaca0fce",
   "metadata": {},
   "outputs": [],
   "source": [
    "# fill nulls of number_of_dual_eligible_users by average number per service type\n",
    "fill_dual_users = cbsa['number_of_users']*(cbsa[\n",
    "    'percentage_of_dual_eligible_users_out_of_total_users']/100)\n",
    "cbsa['number_of_dual_eligible_users'].fillna(fill_dual_users, inplace=True)"
   ]
  },
  {
   "cell_type": "code",
   "execution_count": null,
   "id": "e2329f7f-0a10-48b1-ace7-d8994860b2f4",
   "metadata": {},
   "outputs": [],
   "source": [
    "cbsa['percentage_of_dual_eligible_users_out_of_dual_eligible_ffs_beneficiaries'] = cbsa[\n",
    "    'number_of_dual_eligible_users']/cbsa['number_of_fee_for_service_beneficiaries']"
   ]
  },
  {
   "cell_type": "code",
   "execution_count": null,
   "id": "ece15a3d-4532-456f-9f77-70821557708e",
   "metadata": {},
   "outputs": [],
   "source": [
    "# check null values\n",
    "cbsa.isnull().sum()"
   ]
  },
  {
   "cell_type": "code",
   "execution_count": null,
   "id": "b4b4032c-ede3-4d12-a0c7-f546494d8cb2",
   "metadata": {},
   "outputs": [],
   "source": [
    "# cbsa.to_csv('cbsa_providerv5.csv', index=False)"
   ]
  },
  {
   "cell_type": "markdown",
   "id": "b8141534-2e3d-4508-b73b-b4d3a6d6f78c",
   "metadata": {},
   "source": [
    "Number of Fee-For-Service (FFS) Beneficiaries, Number of Providers, Number of Users, Number of Dual Eligible Users, Total Payment, reference_period, type_of_service, cbsa \n",
    "\n",
    "    - box plots of different services of ONE CBSA's independent diagnostic. measured by total_payment"
   ]
  },
  {
   "cell_type": "code",
   "execution_count": null,
   "id": "ec0d85c0-fd12-4304-83c8-391abd172b02",
   "metadata": {},
   "outputs": [],
   "source": [
    "users_per_service = cbsa.groupby('type_of_service')['number_of_users'].sum()\n",
    "users_per_service"
   ]
  },
  {
   "cell_type": "code",
   "execution_count": null,
   "id": "a2a6b915-cd16-4028-8fa8-7e3d42c6fb15",
   "metadata": {},
   "outputs": [],
   "source": [
    "# filter all the long-term care hospitals in the dataset\n",
    "long_term_subset = cbsa[cbsa['type_of_service'] =='Long-Term Care Hospitals']\n",
    "\n",
    "# filter the top 10 with the largest total payment\n",
    "top_lt = long_term_subset.nlargest(10, 'total_payment')\n",
    "\n",
    "# how many times the same CBSA appeared in the top 10\n",
    "top_cbsa_lt = top_lt['cbsatitle'].value_counts()\n",
    "top_cbsa_lt"
   ]
  },
  {
   "cell_type": "code",
   "execution_count": null,
   "id": "9d3a9799-94b0-49df-b3a7-0a892b94defd",
   "metadata": {},
   "outputs": [],
   "source": [
    "cbsa['cbsatitle'].nunique()"
   ]
  },
  {
   "cell_type": "code",
   "execution_count": null,
   "id": "2349c6d7-fe1d-43e6-afa0-3418c90d6a3f",
   "metadata": {},
   "outputs": [],
   "source": [
    "unique_states = cbsa['state'].unique()\n",
    "unique_states\n",
    "# for state in unique_states:\n",
    "#    print (state)"
   ]
  },
  {
   "cell_type": "markdown",
   "id": "8371c285-ce21-47ab-9257-5dfef4d76d03",
   "metadata": {},
   "source": [
    "**Observation:** some providers were 0 and therfefore error calculating `average_number_of_users_per_provider`."
   ]
  },
  {
   "cell_type": "markdown",
   "id": "a54366f0-7ba5-4489-ac78-20c5d0623289",
   "metadata": {},
   "source": [
    "Number of Fee-For-Service (FFS) Beneficiaries, Number of Providers, Number of Users, Number of Dual Eligible Users, Total Payment, reference_period, type_of_service, cbsa\n",
    "\n",
    "All service types will be aggregated, box plot, compared by payment. Isolate and examine which has the most outliers."
   ]
  },
  {
   "cell_type": "markdown",
   "id": "8c469515-7f5a-452b-ae6c-5497fd9c28d0",
   "metadata": {},
   "source": [
    "#### 5. Handle `total_payment` to ensure  comparability across CBSA"
   ]
  },
  {
   "cell_type": "markdown",
   "id": "ef51b99a-7a40-4415-831a-1446cd79f23d",
   "metadata": {},
   "source": [
    "**Apply Cost of Health Index to `total_payment`**"
   ]
  },
  {
   "cell_type": "code",
   "execution_count": null,
   "id": "9d8979ac-af5a-425f-b03b-5fe43401c000",
   "metadata": {},
   "outputs": [],
   "source": [
    "# cost of health index dictionary\n",
    "cost_index = {\n",
    "    'AK' : 1.48,\n",
    "    'AL' : 0.87,\n",
    "    'AL-GA' : 0.87,\n",
    "    'AR' : 0.88,\n",
    "    'AR-MO' : 0.88,\n",
    "    'AR-OK' : 0.88,\n",
    "    'AZ' : 0.94,\n",
    "    'CA' : 1.09,\n",
    "    'CO' : 1.00,\n",
    "    'CT' : 1.09,\n",
    "    'DC-VA-MD-WV' : 1.47,\n",
    "    'DE' : 1.03,\n",
    "    'FL' : 0.97,\n",
    "    'GA' : 1.00,\n",
    "    'GA-AL' : 1.00,\n",
    "    'GA-SC' : 0.91,\n",
    "    'HI' : 1.23,\n",
    "    'IA' : 0.99,\n",
    "    'IA-IL' : 0.99,\n",
    "    'IA-IL-MO' : 0.99,\n",
    "    'IA-NE-SD' : 0.99,\n",
    "    'ID' : 0.99,\n",
    "    'ID-WA' : 0.99,\n",
    "    'IL' : 0.95,\n",
    "    'IL-IN-WI' : 0.95,\n",
    "    'IL-MO' : 0.95,\n",
    "    'IN' : 0.96,\n",
    "    'IN-KY' : 0.96,\n",
    "    'IN-MI' : 0.96,\n",
    "    'KS' : 0.97,\n",
    "    'KY' : 0.84,\n",
    "    'KY-IL' : 0.84,\n",
    "    'KY-IN' : 0.84,\n",
    "    'LA' : 0.99,\n",
    "    'MA' : 1.13,\n",
    "    'MA-CT' : 1.13,\n",
    "    'MA-NH' : 1.13,\n",
    "    'MD' : 0.97,\n",
    "    'MD-DE' : 0.97,\n",
    "    'MD-WV' : 0.97,\n",
    "    'ME' : 1.03,\n",
    "    'MI' : 0.93,\n",
    "    'MI-WI' : 0.93,\n",
    "    'MN' : 1.09,\n",
    "    'MN-WI' : 1.09,\n",
    "    'MO' : 0.90,\n",
    "    'MO-IL' : 0.90,\n",
    "    'MO-KS' : 0.90,\n",
    "    'MS' : 0.98,\n",
    "    'MS-LA' : 0.98,\n",
    "    'MT' : 0.98,\n",
    "    'NC' : 1.08,\n",
    "    'NC-SC' : 1.08,\n",
    "    'ND' : 1.11,\n",
    "    'ND-MN' : 1.11,\n",
    "    'NE' : 0.98,\n",
    "    'NE-IA' : 0.98,\n",
    "    'NH' : 1.13,\n",
    "    'NH-VT' : 1.13,\n",
    "    'NJ' : 0.99,\n",
    "    'NM' : 0.99,\n",
    "    'NV' : 0.92,\n",
    "    'NY' : 1.06,\n",
    "    'NY-NJ-PA' : 1.06,\n",
    "    'OH' : 0.98,\n",
    "    'OH-KY-IN' : 0.98,\n",
    "    'OH-PA' : 0.98,\n",
    "    'OK' : 0.93,\n",
    "    'OR' : 1.05,\n",
    "    'OR-ID' : 1.05,\n",
    "    'OR-WA' : 1.05,\n",
    "    'PA' : 0.94,\n",
    "    'PA-NJ' : 0.96,\n",
    "    'PA-NJ-DE-MD' : 0.94,\n",
    "    'PR' : 0.69,\n",
    "    'RI-MA' : 1.08,\n",
    "    'SC' : 0.95,\n",
    "    'SC-NC' : 0.95,\n",
    "    'SD' : 0.98,\n",
    "    'TN' : 0.88,\n",
    "    'TN-GA' : 0.88,\n",
    "    'TN-KY' : 0.88,\n",
    "    'TN-MS-AR' : 0.88,\n",
    "    'TN-VA' : 0.88,\n",
    "    'TX' : 0.94,\n",
    "    'TX-AR' : 0.94,\n",
    "    'UT' : 0.91,\n",
    "    'UT-ID' : 0.91,\n",
    "    'VA' : 1.02,\n",
    "    'VA-NC' : 1.02,\n",
    "    'VA-WV' : 1.02,\n",
    "    'VT' : 1.06,\n",
    "    'WA' : 1.20,\n",
    "    'WI' : 1.12,\n",
    "    'WI-MI' : 1.12,\n",
    "    'WI-MN' : 1.12,\n",
    "    'WV' : 0.97,\n",
    "    'WV-KY-OH' : 0.97,\n",
    "    'WV-OH' : 0.97,\n",
    "    'WV-VA' : 0.97,\n",
    "    'WY' : 1.00,\n",
    "    'WY-ID' : 1.00\n",
    "}"
   ]
  },
  {
   "cell_type": "code",
   "execution_count": null,
   "id": "edc62e91-41f6-47f7-951e-c746814e280f",
   "metadata": {},
   "outputs": [],
   "source": [
    "# use dictionary to map states to their cost of health index\n",
    "cbsa['cost_of_health_index'] = cbsa['state'].map(cost_index)\n",
    "cbsa['total_payment_adjusted'] = cbsa['total_payment']*cbsa['cost_of_health_index']"
   ]
  },
  {
   "cell_type": "markdown",
   "id": "e4b41a77-5dc2-4be5-bbec-ab6a86277182",
   "metadata": {},
   "source": [
    "**Normalize `total_payment_adjusted` by health service utilization**"
   ]
  },
  {
   "cell_type": "code",
   "execution_count": null,
   "id": "14356bf0-6cb3-42b0-8d2b-f50e8ef93ce9",
   "metadata": {},
   "outputs": [],
   "source": [
    "# create column for normalized total payment\n",
    "cbsa['total_payment_adj_z'] = cbsa['total_payment_adjusted']/cbsa['number_of_users']"
   ]
  },
  {
   "cell_type": "code",
   "execution_count": null,
   "id": "50d539fe-afb3-4a84-9cf6-e9430cdcefc3",
   "metadata": {
    "scrolled": true
   },
   "outputs": [],
   "source": [
    "# statistics\n",
    "cbsa.describe()"
   ]
  },
  {
   "cell_type": "code",
   "execution_count": null,
   "id": "6833ffa7-d0f6-4258-a74b-dc2c9cf7361a",
   "metadata": {},
   "outputs": [],
   "source": [
    "# visualization to see the total payment across different service types\n",
    "service_payment = cbsa.groupby('type_of_service', as_index=False)['total_payment_adjusted'].sum()\n",
    "service_payment.sort_values(by = ['total_payment_adjusted'], inplace=True)\n",
    "fig = plt.figure(figsize = (8,15))\n",
    "plt.barh(service_payment['type_of_service'], service_payment['total_payment_adjusted'])\n",
    "plt.title(\"Total Payment for Healthcare Services by Type of Service\")\n",
    "plt.xlabel(\"Sum of Total Payments\")\n",
    "plt.ylabel(\"Service Types\")\n",
    "\n",
    "# format x-axis for readability\n",
    "def format_dollars(x, pos):\n",
    "    return '${:,.0f}B'.format(x/1e9)\n",
    "    \n",
    "plt.gca().xaxis.set_major_formatter(ticker.FuncFormatter(format_dollars))\n",
    "plt.show()"
   ]
  },
  {
   "cell_type": "code",
   "execution_count": null,
   "id": "e5dff1bd-0840-4c86-ad74-7aff72c79b50",
   "metadata": {},
   "outputs": [],
   "source": [
    "plt.figure(figsize=(15,8))\n",
    "sns.boxplot(x='type_of_service', y='total_payment_adj_z', data= cbsa)\n",
    "plt.title('Average Payment per User Across Service Types')\n",
    "plt.xlabel('Type of Services')\n",
    "plt.ylabel('Average Payment per User')\n",
    "plt.xticks(rotation=90)\n",
    "\n",
    "# format y-axis for readability\n",
    "def format_dollars(y, pos):\n",
    "    return '${:,.0f}'.format(y)\n",
    "    \n",
    "plt.gca().yaxis.set_major_formatter(ticker.FuncFormatter(format_dollars))\n",
    "\n",
    "\n",
    "plt.show()"
   ]
  },
  {
   "cell_type": "markdown",
   "id": "e1b9e9c0-1ecd-4912-a81a-5847d5ac2e59",
   "metadata": {},
   "source": [
    "#### 6. Establish Metrics"
   ]
  },
  {
   "cell_type": "markdown",
   "id": "b9194bd5-b91e-4551-b6c6-f37447c07789",
   "metadata": {},
   "source": [
    "#### 7. Standardize Remaining Numeric Values"
   ]
  },
  {
   "cell_type": "markdown",
   "id": "2da8dc57-5e34-44a2-bc1a-de5e0197a25b",
   "metadata": {},
   "source": [
    "#### 8. Identify and Examine Outliers"
   ]
  },
  {
   "cell_type": "markdown",
   "id": "073da31b-4b4b-4b38-a2f4-e0fe95b3570b",
   "metadata": {},
   "source": [
    "## Determine Data Mining Task\n",
    "\n",
    "\n",
    "    1. Analyze and find correlation between features\n",
    "    2. Build and test machine learning models\n",
    "    3. Select best performing model\n",
    "    4. Feature importance\n",
    "    5. Deployment Planning"
   ]
  },
  {
   "cell_type": "markdown",
   "id": "f4a6818a-dfa4-4919-a688-f3ffdbdebd29",
   "metadata": {},
   "source": [
    "## Choose Data Mining Methods"
   ]
  },
  {
   "cell_type": "markdown",
   "id": "3984b463-61cc-4e90-a286-a0f01ad793e4",
   "metadata": {},
   "source": [
    "## Apply Methods and Select Final Model"
   ]
  },
  {
   "cell_type": "markdown",
   "id": "644f8ae0-b178-4bd1-b1a9-3e72ddd3179a",
   "metadata": {},
   "source": [
    "## Evaluate Performance"
   ]
  },
  {
   "cell_type": "code",
   "execution_count": null,
   "id": "3698d64d-972f-46ce-9012-ab0c35554819",
   "metadata": {},
   "outputs": [],
   "source": []
  }
 ],
 "metadata": {
  "kernelspec": {
   "display_name": "Python 3 (ipykernel)",
   "language": "python",
   "name": "python3"
  },
  "language_info": {
   "codemirror_mode": {
    "name": "ipython",
    "version": 3
   },
   "file_extension": ".py",
   "mimetype": "text/x-python",
   "name": "python",
   "nbconvert_exporter": "python",
   "pygments_lexer": "ipython3",
   "version": "3.9.19"
  }
 },
 "nbformat": 4,
 "nbformat_minor": 5
}
