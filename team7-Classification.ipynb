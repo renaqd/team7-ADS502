{
 "cells": [
  {
   "cell_type": "code",
   "execution_count": 1,
   "id": "358375b1-3574-4d40-af6b-f7fc1242c831",
   "metadata": {},
   "outputs": [],
   "source": [
    "#import libraries\n",
    "import pandas as pd\n",
    "import numpy as np\n",
    "\n",
    "import matplotlib.pyplot as plt\n",
    "import matplotlib.patches as mpatches\n",
    "import matplotlib.ticker as ticker\n",
    "import folium\n",
    "from folium.plugins import MarkerCluster\n",
    "\n",
    "from sklearn.model_selection import train_test_split\n",
    "from sklearn.metrics import accuracy_score\n",
    "from sklearn.metrics import mean_absolute_error\n",
    "from sklearn.metrics import confusion_matrix\n",
    "from sklearn import metrics\n",
    "from sklearn.ensemble import RandomForestRegressor\n",
    "from sklearn.decomposition import PCA\n",
    "from sklearn.pipeline import Pipeline\n",
    "from sklearn.preprocessing import LabelEncoder\n",
    "from sklearn.preprocessing import Normalizer, StandardScaler, MinMaxScaler\n",
    "from sklearn.linear_model import LinearRegression\n",
    "from sklearn.linear_model import GammaRegressor\n",
    "from sklearn.linear_model import LogisticRegression\n",
    "from sklearn.naive_bayes import MultinomialNB\n",
    "import seaborn as sns\n",
    "from scipy.stats import zscore\n",
    "from scipy.stats import ttest_ind\n",
    "from scipy import stats\n",
    "import statsmodels.api as sm\n",
    "\n",
    "# %pip install -U imbalanced-learn\n",
    "from imblearn.over_sampling import SMOTE\n",
    "\n",
    "# for Mac errors\n",
    "import warnings\n",
    "warnings.filterwarnings(\"ignore\")"
   ]
  },
  {
   "cell_type": "markdown",
   "id": "cac68122-75b0-4e3d-96ce-4256fe3d1701",
   "metadata": {},
   "source": [
    "**Data Preprocessing in team7-Final.ipynb**"
   ]
  },
  {
   "cell_type": "code",
   "execution_count": 2,
   "id": "eeeae7bd-93a3-4e34-a172-dbe21299f78c",
   "metadata": {},
   "outputs": [
    {
     "data": {
      "text/html": [
       "<div>\n",
       "<style scoped>\n",
       "    .dataframe tbody tr th:only-of-type {\n",
       "        vertical-align: middle;\n",
       "    }\n",
       "\n",
       "    .dataframe tbody tr th {\n",
       "        vertical-align: top;\n",
       "    }\n",
       "\n",
       "    .dataframe thead th {\n",
       "        text-align: right;\n",
       "    }\n",
       "</style>\n",
       "<table border=\"1\" class=\"dataframe\">\n",
       "  <thead>\n",
       "    <tr style=\"text-align: right;\">\n",
       "      <th></th>\n",
       "      <th>number_of_providers</th>\n",
       "      <th>zone</th>\n",
       "      <th>in_range</th>\n",
       "    </tr>\n",
       "  </thead>\n",
       "  <tbody>\n",
       "    <tr>\n",
       "      <th>0</th>\n",
       "      <td>3.0</td>\n",
       "      <td>central</td>\n",
       "      <td>True</td>\n",
       "    </tr>\n",
       "    <tr>\n",
       "      <th>1</th>\n",
       "      <td>18.0</td>\n",
       "      <td>pacific</td>\n",
       "      <td>True</td>\n",
       "    </tr>\n",
       "    <tr>\n",
       "      <th>2</th>\n",
       "      <td>11.0</td>\n",
       "      <td>central</td>\n",
       "      <td>True</td>\n",
       "    </tr>\n",
       "    <tr>\n",
       "      <th>3</th>\n",
       "      <td>5.0</td>\n",
       "      <td>central</td>\n",
       "      <td>True</td>\n",
       "    </tr>\n",
       "    <tr>\n",
       "      <th>4</th>\n",
       "      <td>18.0</td>\n",
       "      <td>eastern</td>\n",
       "      <td>True</td>\n",
       "    </tr>\n",
       "  </tbody>\n",
       "</table>\n",
       "</div>"
      ],
      "text/plain": [
       "   number_of_providers     zone  in_range\n",
       "0                  3.0  central      True\n",
       "1                 18.0  pacific      True\n",
       "2                 11.0  central      True\n",
       "3                  5.0  central      True\n",
       "4                 18.0  eastern      True"
      ]
     },
     "execution_count": 2,
     "metadata": {},
     "output_type": "execute_result"
    }
   ],
   "source": [
    "# load data\n",
    "cbsa = pd.read_csv(\"cbsa2.csv\")\n",
    "cbsa.head()"
   ]
  },
  {
   "cell_type": "markdown",
   "id": "ad61606c-a839-4c63-8dfa-9d9608efa739",
   "metadata": {},
   "source": [
    "**Split Data**"
   ]
  },
  {
   "cell_type": "code",
   "execution_count": 3,
   "id": "1aa15483-80cb-46d8-a772-7f95fa69f5fa",
   "metadata": {},
   "outputs": [],
   "source": [
    "# split data\n",
    "cbsa_train, cbsa_test = train_test_split(cbsa,\n",
    "                                            test_size = 0.25,\n",
    "                                            random_state = 7)"
   ]
  },
  {
   "cell_type": "code",
   "execution_count": 4,
   "id": "2aecc474-9ffe-4d6b-8883-53bdd30c9fb5",
   "metadata": {},
   "outputs": [
    {
     "name": "stdout",
     "output_type": "stream",
     "text": [
      "Original shape before partition:  162848 \n",
      "Training set shape:  122136 \n",
      "Test set shape:  40712\n"
     ]
    }
   ],
   "source": [
    "print('Original shape before partition: ', cbsa.shape[0],\n",
    "        '\\nTraining set shape: ', cbsa_train.shape[0],\n",
    "        '\\nTest set shape: ', cbsa_test.shape[0])"
   ]
  },
  {
   "cell_type": "code",
   "execution_count": 5,
   "id": "b628b7f4-d8c5-4f80-a9f7-f3aa6278c68e",
   "metadata": {},
   "outputs": [
    {
     "name": "stdout",
     "output_type": "stream",
     "text": [
      "Proportion of training instances:  75.0 \n",
      "Proportion of test instances:  25.0\n"
     ]
    }
   ],
   "source": [
    "print('Proportion of training instances: ', cbsa_train.shape[0]/cbsa.shape[0]*100,\n",
    "        '\\nProportion of test instances: ', cbsa_test.shape[0]/cbsa.shape[0]*100)"
   ]
  },
  {
   "cell_type": "markdown",
   "id": "03c358fb-81cd-46a4-ae89-8bdd641caec0",
   "metadata": {},
   "source": [
    "Balance Training Dataset"
   ]
  },
  {
   "cell_type": "code",
   "execution_count": 6,
   "id": "90716df4-782a-4640-b056-0952496b270e",
   "metadata": {},
   "outputs": [
    {
     "data": {
      "text/plain": [
       "in_range\n",
       "True     121791\n",
       "False       345\n",
       "Name: count, dtype: int64"
      ]
     },
     "execution_count": 6,
     "metadata": {},
     "output_type": "execute_result"
    }
   ],
   "source": [
    "# response variable\n",
    "cbsa_train['in_range'].value_counts()"
   ]
  },
  {
   "cell_type": "markdown",
   "id": "e751c884-41fa-42d2-98f7-d667dfdcdcf9",
   "metadata": {},
   "source": [
    "**Calculate ratio of minority class and find out how many to increase to get 30%**"
   ]
  },
  {
   "cell_type": "code",
   "execution_count": 7,
   "id": "5539f1af-2eac-4b28-b8e4-f214f61087d0",
   "metadata": {},
   "outputs": [
    {
     "data": {
      "text/plain": [
       "0.28247199842798193"
      ]
     },
     "execution_count": 7,
     "metadata": {},
     "output_type": "execute_result"
    }
   ],
   "source": [
    "# instances of minority divide by total instances\n",
    "ratio = cbsa_train['in_range'].value_counts()[1] / cbsa_train.shape[0]*100\n",
    "ratio"
   ]
  },
  {
   "cell_type": "markdown",
   "id": "b5dc49b6-8e70-430f-a07b-c1d6097191c1",
   "metadata": {},
   "source": [
    "imbalanced at 0.28%. False response will change depending on partition. Increase False response to 30%. For p(False) = 0.3, it needs X records to resample. Then, add to training set."
   ]
  },
  {
   "cell_type": "code",
   "execution_count": 8,
   "id": "ac8dbb2a-7d29-4400-b16c-af897e3928fe",
   "metadata": {},
   "outputs": [
    {
     "data": {
      "text/plain": [
       "345"
      ]
     },
     "execution_count": 8,
     "metadata": {},
     "output_type": "execute_result"
    }
   ],
   "source": [
    "# isolate records to resample\n",
    "to_resample = cbsa_train.loc[cbsa_train['in_range'] == False]\n",
    "to_resample.shape[0]"
   ]
  },
  {
   "cell_type": "code",
   "execution_count": 9,
   "id": "71807b0e-c305-4504-9347-4209e3404cb3",
   "metadata": {},
   "outputs": [
    {
     "data": {
      "text/plain": [
       "122136"
      ]
     },
     "execution_count": 9,
     "metadata": {},
     "output_type": "execute_result"
    }
   ],
   "source": [
    "cbsa_train.shape[0]"
   ]
  },
  {
   "cell_type": "code",
   "execution_count": 10,
   "id": "54510ce2-4d7d-49f8-ba2c-c132474d93ca",
   "metadata": {},
   "outputs": [
    {
     "name": "stdout",
     "output_type": "stream",
     "text": [
      "51851.0\n"
     ]
    }
   ],
   "source": [
    "p = 0.3\n",
    "n = round(((p*cbsa_train.shape[0]) - to_resample.shape[0])/(1-p),0)\n",
    "print(n)"
   ]
  },
  {
   "cell_type": "markdown",
   "id": "ddaa4e6b-e099-4a11-87e2-f7c6def62a28",
   "metadata": {},
   "source": [
    "**Sample with replacement with 51851 records from the `False` class**"
   ]
  },
  {
   "cell_type": "code",
   "execution_count": 11,
   "id": "ec276694-e799-41a3-8a4d-8c5c00b3b1a5",
   "metadata": {},
   "outputs": [],
   "source": [
    "# sample from recods of interest\n",
    "our_sample = to_resample.sample(n = 51851, replace = True)"
   ]
  },
  {
   "cell_type": "code",
   "execution_count": 12,
   "id": "b509aa23-1510-41b8-8889-812557ec9932",
   "metadata": {},
   "outputs": [],
   "source": [
    "# add sample to original training set\n",
    "cbsa_train_rebal = pd.concat([cbsa_train, our_sample], axis = 0)"
   ]
  },
  {
   "cell_type": "code",
   "execution_count": 13,
   "id": "398c4f11-1f87-4691-ac06-7cf246500c15",
   "metadata": {},
   "outputs": [
    {
     "data": {
      "text/plain": [
       "in_range\n",
       "True     121791\n",
       "False     52196\n",
       "Name: count, dtype: int64"
      ]
     },
     "execution_count": 13,
     "metadata": {},
     "output_type": "execute_result"
    }
   ],
   "source": [
    "cbsa_train_rebal['in_range'].value_counts()"
   ]
  },
  {
   "cell_type": "code",
   "execution_count": 14,
   "id": "6bf4c4a2-df54-4392-8245-b6654e06973e",
   "metadata": {},
   "outputs": [
    {
     "data": {
      "text/plain": [
       "29.99994252444148"
      ]
     },
     "execution_count": 14,
     "metadata": {},
     "output_type": "execute_result"
    }
   ],
   "source": [
    "# confirm desiered % increase\n",
    "ratio = cbsa_train_rebal['in_range'].value_counts()[1]/cbsa_train_rebal.shape[0]*100\n",
    "ratio"
   ]
  },
  {
   "cell_type": "code",
   "execution_count": 15,
   "id": "fc849b35-ebe6-48fd-b1dc-0a450c144e5c",
   "metadata": {},
   "outputs": [
    {
     "data": {
      "text/plain": [
       "(173987, 3)"
      ]
     },
     "execution_count": 15,
     "metadata": {},
     "output_type": "execute_result"
    }
   ],
   "source": [
    "cbsa_train_rebal.shape"
   ]
  },
  {
   "cell_type": "markdown",
   "id": "cd592a67-4338-47e8-b36e-d117997fa207",
   "metadata": {},
   "source": [
    "**Modeling**"
   ]
  },
  {
   "cell_type": "code",
   "execution_count": 16,
   "id": "77c6dd69-3915-432d-8b5b-fadfc7905235",
   "metadata": {},
   "outputs": [],
   "source": [
    "# metrics function\n",
    "def calculate_metrics(model, TN, FP, FN, TP):\n",
    "    # calculations\n",
    "    TPN = TN + FN\n",
    "    TPP = FP + TP\n",
    "    TAN = TN + FP\n",
    "    TAP = FN + TP\n",
    "    GT = TN + FN + FP + TP\n",
    "    \n",
    "    accuracy = ((TN+TP)/GT)\n",
    "    error_rate = 1 - accuracy\n",
    "    sensitivity = TP/TAP\n",
    "    specificity = TN/TAN\n",
    "    precision = TP/TPP\n",
    "    recall = sensitivity\n",
    "    F1 = 2 * ((precision*recall)/(precision+recall))\n",
    "    F2 = 5 * ((precision*recall)/((4*precision)+recall))\n",
    "    F05 = 1.25 * ((precision*recall)/((0.25*precision)+recall))\n",
    "\n",
    "    # Create a DataFrame with metric values\n",
    "    values_df = pd.DataFrame({\n",
    "        'Metric': ['Accuracy', 'Error Rate', 'Sensitivity', 'Specificity', \n",
    "                   'Precision', 'Recall', 'F1 Score', 'F2 Score', 'F0.5 Score'],\n",
    "        f'{model} Values': [accuracy, error_rate, sensitivity, specificity, \n",
    "                            precision, recall, F1, F2, F05]\n",
    "    })\n",
    "\n",
    "    return values_df"
   ]
  },
  {
   "cell_type": "code",
   "execution_count": 17,
   "id": "4c4485da-910a-4d94-b895-19a8eb9438d1",
   "metadata": {},
   "outputs": [
    {
     "data": {
      "text/html": [
       "<div>\n",
       "<style scoped>\n",
       "    .dataframe tbody tr th:only-of-type {\n",
       "        vertical-align: middle;\n",
       "    }\n",
       "\n",
       "    .dataframe tbody tr th {\n",
       "        vertical-align: top;\n",
       "    }\n",
       "\n",
       "    .dataframe thead th {\n",
       "        text-align: right;\n",
       "    }\n",
       "</style>\n",
       "<table border=\"1\" class=\"dataframe\">\n",
       "  <thead>\n",
       "    <tr style=\"text-align: right;\">\n",
       "      <th></th>\n",
       "      <th>number_of_providers</th>\n",
       "      <th>zone</th>\n",
       "    </tr>\n",
       "  </thead>\n",
       "  <tbody>\n",
       "    <tr>\n",
       "      <th>65549</th>\n",
       "      <td>91.0</td>\n",
       "      <td>eastern</td>\n",
       "    </tr>\n",
       "    <tr>\n",
       "      <th>125888</th>\n",
       "      <td>12.0</td>\n",
       "      <td>pacific</td>\n",
       "    </tr>\n",
       "    <tr>\n",
       "      <th>83150</th>\n",
       "      <td>61.0</td>\n",
       "      <td>central</td>\n",
       "    </tr>\n",
       "    <tr>\n",
       "      <th>109998</th>\n",
       "      <td>9.0</td>\n",
       "      <td>eastern</td>\n",
       "    </tr>\n",
       "    <tr>\n",
       "      <th>110434</th>\n",
       "      <td>5.0</td>\n",
       "      <td>central</td>\n",
       "    </tr>\n",
       "  </tbody>\n",
       "</table>\n",
       "</div>"
      ],
      "text/plain": [
       "        number_of_providers     zone\n",
       "65549                  91.0  eastern\n",
       "125888                 12.0  pacific\n",
       "83150                  61.0  central\n",
       "109998                  9.0  eastern\n",
       "110434                  5.0  central"
      ]
     },
     "execution_count": 17,
     "metadata": {},
     "output_type": "execute_result"
    }
   ],
   "source": [
    "# split predictor and target variables into separate objects\n",
    "X_train = cbsa_train_rebal.drop(['in_range'], axis=1)\n",
    "y_train = cbsa_train_rebal['in_range']\n",
    "X_train.head()"
   ]
  },
  {
   "cell_type": "code",
   "execution_count": 18,
   "id": "f37f43ca-acb1-4182-ba64-75473275d038",
   "metadata": {},
   "outputs": [
    {
     "data": {
      "text/plain": [
       "65549      True\n",
       "125888     True\n",
       "83150      True\n",
       "109998     True\n",
       "110434     True\n",
       "          ...  \n",
       "88599     False\n",
       "124822    False\n",
       "52111     False\n",
       "113495    False\n",
       "161779    False\n",
       "Name: in_range, Length: 173987, dtype: bool"
      ]
     },
     "execution_count": 18,
     "metadata": {},
     "output_type": "execute_result"
    }
   ],
   "source": [
    "y_train"
   ]
  },
  {
   "cell_type": "markdown",
   "id": "a4ecf02e-4e9b-49e7-b10d-0c5f3ce62104",
   "metadata": {},
   "source": [
    "**Encode categoricals in training set**"
   ]
  },
  {
   "cell_type": "code",
   "execution_count": 19,
   "id": "b32f02b8-4f57-4972-bad1-0ceeb0f1c919",
   "metadata": {},
   "outputs": [],
   "source": [
    "X_train_numerical = X_train['number_of_providers']"
   ]
  },
  {
   "cell_type": "code",
   "execution_count": 20,
   "id": "41de43dc-1115-4697-b196-8131d72d53c7",
   "metadata": {},
   "outputs": [],
   "source": [
    "train_encoded = pd.get_dummies(X_train['zone'])\n",
    "train_encoded = train_encoded.astype(int)\n",
    "\n",
    "# concatenate with rest of predictors\n",
    "X_train = pd.concat([X_train_numerical, train_encoded], axis=1)"
   ]
  },
  {
   "cell_type": "markdown",
   "id": "a2cdb98f-cf60-4eef-86e1-b61935d2a855",
   "metadata": {},
   "source": [
    "**Train Model**"
   ]
  },
  {
   "cell_type": "code",
   "execution_count": 21,
   "id": "d07c8729-4bbf-4a2f-a9eb-6840b782c281",
   "metadata": {},
   "outputs": [],
   "source": [
    "# train NB model using by passing predictor and target training\n",
    "nb = MultinomialNB().fit(X_train, y_train)"
   ]
  },
  {
   "cell_type": "markdown",
   "id": "5c417a17-2559-4fc4-92e2-f450a9ec81da",
   "metadata": {},
   "source": [
    "**Encode categoricals in test set**"
   ]
  },
  {
   "cell_type": "code",
   "execution_count": 22,
   "id": "7fdcef80-603b-497a-8966-930f5a87f0d2",
   "metadata": {},
   "outputs": [],
   "source": [
    "X_test = cbsa_test.drop(['in_range'], axis=1)\n",
    "y_test = cbsa_test['in_range']"
   ]
  },
  {
   "cell_type": "code",
   "execution_count": 23,
   "id": "469823d1-a999-4a9f-8e5b-e2e47845e958",
   "metadata": {},
   "outputs": [],
   "source": [
    "X_test_numerical = X_test['number_of_providers']"
   ]
  },
  {
   "cell_type": "code",
   "execution_count": 24,
   "id": "f59b5312-b370-4cb4-9130-312e1711258c",
   "metadata": {},
   "outputs": [],
   "source": [
    "test_encoded = pd.get_dummies(X_test['zone'])\n",
    "test_encoded = test_encoded.astype(int)\n",
    "\n",
    "X_test = pd.concat([X_test_numerical, test_encoded], axis=1)"
   ]
  },
  {
   "cell_type": "code",
   "execution_count": 25,
   "id": "5cbc64fd-bc81-4d8b-b379-2e96bc4e5119",
   "metadata": {},
   "outputs": [],
   "source": [
    "# make prediction on test set using nb model\n",
    "nb_preds = nb.predict(X_test)"
   ]
  },
  {
   "cell_type": "markdown",
   "id": "164fb8f2-6203-473c-b237-572d7d2e9c4d",
   "metadata": {},
   "source": [
    "**Confusion Matrix**"
   ]
  },
  {
   "cell_type": "code",
   "execution_count": 26,
   "id": "0f7a2170-67a2-43fd-9c45-adbac80ea951",
   "metadata": {},
   "outputs": [],
   "source": [
    "nb_cm =confusion_matrix(y_test, nb_preds)"
   ]
  },
  {
   "cell_type": "code",
   "execution_count": 27,
   "id": "09d097c3-7e82-4803-b555-47ff22528220",
   "metadata": {},
   "outputs": [
    {
     "data": {
      "text/plain": [
       "array([[   38,    78],\n",
       "       [ 1686, 38910]], dtype=int64)"
      ]
     },
     "execution_count": 27,
     "metadata": {},
     "output_type": "execute_result"
    }
   ],
   "source": [
    "nb_cm"
   ]
  },
  {
   "cell_type": "code",
   "execution_count": 28,
   "id": "a9e4e604-abaf-4771-a114-be6fa78dd305",
   "metadata": {},
   "outputs": [],
   "source": [
    "TN = nb_cm[0][0]\n",
    "FP = nb_cm[0][1]\n",
    "FN = nb_cm[1][0]\n",
    "TP = nb_cm[1][1]"
   ]
  },
  {
   "cell_type": "code",
   "execution_count": 29,
   "id": "6eb3f5c5-6afd-43f0-b88a-eb936a2772c0",
   "metadata": {},
   "outputs": [
    {
     "data": {
      "text/html": [
       "<div>\n",
       "<style scoped>\n",
       "    .dataframe tbody tr th:only-of-type {\n",
       "        vertical-align: middle;\n",
       "    }\n",
       "\n",
       "    .dataframe tbody tr th {\n",
       "        vertical-align: top;\n",
       "    }\n",
       "\n",
       "    .dataframe thead th {\n",
       "        text-align: right;\n",
       "    }\n",
       "</style>\n",
       "<table border=\"1\" class=\"dataframe\">\n",
       "  <thead>\n",
       "    <tr style=\"text-align: right;\">\n",
       "      <th></th>\n",
       "      <th>Metric</th>\n",
       "      <th>nb1 Values</th>\n",
       "    </tr>\n",
       "  </thead>\n",
       "  <tbody>\n",
       "    <tr>\n",
       "      <th>0</th>\n",
       "      <td>Accuracy</td>\n",
       "      <td>0.956671</td>\n",
       "    </tr>\n",
       "    <tr>\n",
       "      <th>1</th>\n",
       "      <td>Error Rate</td>\n",
       "      <td>0.043329</td>\n",
       "    </tr>\n",
       "    <tr>\n",
       "      <th>2</th>\n",
       "      <td>Sensitivity</td>\n",
       "      <td>0.958469</td>\n",
       "    </tr>\n",
       "    <tr>\n",
       "      <th>3</th>\n",
       "      <td>Specificity</td>\n",
       "      <td>0.327586</td>\n",
       "    </tr>\n",
       "    <tr>\n",
       "      <th>4</th>\n",
       "      <td>Precision</td>\n",
       "      <td>0.997999</td>\n",
       "    </tr>\n",
       "    <tr>\n",
       "      <th>5</th>\n",
       "      <td>Recall</td>\n",
       "      <td>0.958469</td>\n",
       "    </tr>\n",
       "    <tr>\n",
       "      <th>6</th>\n",
       "      <td>F1 Score</td>\n",
       "      <td>0.977835</td>\n",
       "    </tr>\n",
       "    <tr>\n",
       "      <th>7</th>\n",
       "      <td>F2 Score</td>\n",
       "      <td>0.966122</td>\n",
       "    </tr>\n",
       "    <tr>\n",
       "      <th>8</th>\n",
       "      <td>F0.5 Score</td>\n",
       "      <td>0.989835</td>\n",
       "    </tr>\n",
       "  </tbody>\n",
       "</table>\n",
       "</div>"
      ],
      "text/plain": [
       "        Metric  nb1 Values\n",
       "0     Accuracy    0.956671\n",
       "1   Error Rate    0.043329\n",
       "2  Sensitivity    0.958469\n",
       "3  Specificity    0.327586\n",
       "4    Precision    0.997999\n",
       "5       Recall    0.958469\n",
       "6     F1 Score    0.977835\n",
       "7     F2 Score    0.966122\n",
       "8   F0.5 Score    0.989835"
      ]
     },
     "execution_count": 29,
     "metadata": {},
     "output_type": "execute_result"
    }
   ],
   "source": [
    "metrics_df = calculate_metrics(\"nb1\", TN, FP, FN, TP)\n",
    "metrics_df"
   ]
  },
  {
   "cell_type": "markdown",
   "id": "a3db6029-5c1c-4042-9fa6-f07e2ab0d4a7",
   "metadata": {},
   "source": [
    "**Baseline Logistic Regression**\n",
    "\n",
    "Goal: determine wether or not cbsa are in range for average total payment per user."
   ]
  },
  {
   "cell_type": "code",
   "execution_count": 30,
   "id": "47b309d2-c22a-44c1-b0ed-c06e48be7813",
   "metadata": {},
   "outputs": [],
   "source": [
    "# add constant to rebalanced\n",
    "X_1 = sm.add_constant(X_train)"
   ]
  },
  {
   "cell_type": "code",
   "execution_count": 31,
   "id": "aad457ba-4d84-4aa0-83fa-93be1e7e5518",
   "metadata": {},
   "outputs": [
    {
     "name": "stdout",
     "output_type": "stream",
     "text": [
      "Warning: Maximum number of iterations has been exceeded.\n",
      "         Current function value: 0.472791\n",
      "         Iterations: 35\n"
     ]
    },
    {
     "data": {
      "text/html": [
       "<table class=\"simpletable\">\n",
       "<tr>\n",
       "        <td>Model:</td>              <td>Logit</td>           <td>Method:</td>          <td>MLE</td>    \n",
       "</tr>\n",
       "<tr>\n",
       "  <td>Dependent Variable:</td>     <td>in_range</td>     <td>Pseudo R-squared:</td>    <td>0.226</td>   \n",
       "</tr>\n",
       "<tr>\n",
       "         <td>Date:</td>        <td>2024-04-13 21:07</td>       <td>AIC:</td>        <td>164534.9948</td>\n",
       "</tr>\n",
       "<tr>\n",
       "   <td>No. Observations:</td>       <td>173987</td>            <td>BIC:</td>        <td>164615.5287</td>\n",
       "</tr>\n",
       "<tr>\n",
       "       <td>Df Model:</td>              <td>7</td>         <td>Log-Likelihood:</td>    <td>-82259.</td>  \n",
       "</tr>\n",
       "<tr>\n",
       "     <td>Df Residuals:</td>         <td>173979</td>          <td>LL-Null:</td>      <td>-1.0628e+05</td>\n",
       "</tr>\n",
       "<tr>\n",
       "      <td>Converged:</td>           <td>0.0000</td>        <td>LLR p-value:</td>      <td>0.0000</td>   \n",
       "</tr>\n",
       "<tr>\n",
       "    <td>No. Iterations:</td>        <td>35.0000</td>          <td>Scale:</td>         <td>1.0000</td>   \n",
       "</tr>\n",
       "</table>\n",
       "<table class=\"simpletable\">\n",
       "<tr>\n",
       "           <td></td>             <th>Coef.</th>   <th>Std.Err.</th>       <th>z</th>      <th>P>|z|</th>    <th>[0.025</th>      <th>0.975]</th>   \n",
       "</tr>\n",
       "<tr>\n",
       "  <th>const</th>                <td>13.1261</td> <td>348774.6481</td>  <td>0.0000</td>   <td>1.0000</td> <td>-683572.6229</td> <td>683598.8751</td>\n",
       "</tr>\n",
       "<tr>\n",
       "  <th>number_of_providers</th>  <td>-0.0078</td>   <td>0.0001</td>    <td>-135.6465</td> <td>0.0000</td>    <td>-0.0079</td>     <td>-0.0076</td>  \n",
       "</tr>\n",
       "<tr>\n",
       "  <th>alaska</th>               <td>8.4830</td>  <td>348779.5247</td>  <td>0.0000</td>   <td>1.0000</td> <td>-683586.8239</td> <td>683603.7899</td>\n",
       "</tr>\n",
       "<tr>\n",
       "  <th>atlantic</th>             <td>11.6352</td> <td>348824.0653</td>  <td>0.0000</td>   <td>1.0000</td> <td>-683670.9697</td> <td>683694.2401</td>\n",
       "</tr>\n",
       "<tr>\n",
       "  <th>central</th>             <td>-11.1952</td> <td>348774.6481</td>  <td>-0.0000</td>  <td>1.0000</td> <td>-683596.9442</td> <td>683574.5538</td>\n",
       "</tr>\n",
       "<tr>\n",
       "  <th>eastern</th>             <td>-11.7578</td> <td>348774.6481</td>  <td>-0.0000</td>  <td>1.0000</td> <td>-683597.5068</td> <td>683573.9912</td>\n",
       "</tr>\n",
       "<tr>\n",
       "  <th>hawaii</th>               <td>7.0989</td>  <td>348775.2610</td>  <td>0.0000</td>   <td>1.0000</td> <td>-683579.8513</td> <td>683594.0491</td>\n",
       "</tr>\n",
       "<tr>\n",
       "  <th>mountain</th>             <td>20.6610</td> <td>349058.5525</td>  <td>0.0001</td>   <td>1.0000</td> <td>-684121.5305</td> <td>684162.8524</td>\n",
       "</tr>\n",
       "<tr>\n",
       "  <th>pacific</th>             <td>-11.7989</td> <td>348774.6481</td>  <td>-0.0000</td>  <td>1.0000</td> <td>-683597.5479</td> <td>683573.9501</td>\n",
       "</tr>\n",
       "</table><br/>\n"
      ],
      "text/latex": [
       "\\begin{table}\n",
       "\\caption{Results: Logit}\n",
       "\\label{}\n",
       "\\begin{center}\n",
       "\\begin{tabular}{llll}\n",
       "\\hline\n",
       "Model:              & Logit            & Method:           & MLE          \\\\\n",
       "Dependent Variable: & in\\_range        & Pseudo R-squared: & 0.226        \\\\\n",
       "Date:               & 2024-04-13 21:07 & AIC:              & 164534.9948  \\\\\n",
       "No. Observations:   & 173987           & BIC:              & 164615.5287  \\\\\n",
       "Df Model:           & 7                & Log-Likelihood:   & -82259.      \\\\\n",
       "Df Residuals:       & 173979           & LL-Null:          & -1.0628e+05  \\\\\n",
       "Converged:          & 0.0000           & LLR p-value:      & 0.0000       \\\\\n",
       "No. Iterations:     & 35.0000          & Scale:            & 1.0000       \\\\\n",
       "\\hline\n",
       "\\end{tabular}\n",
       "\\end{center}\n",
       "\n",
       "\\begin{center}\n",
       "\\begin{tabular}{lrrrrrr}\n",
       "\\hline\n",
       "                      &    Coef. &    Std.Err. &         z & P$> |$z$|$ &       [0.025 &      0.975]  \\\\\n",
       "\\hline\n",
       "const                 &  13.1261 & 348774.6481 &    0.0000 &      1.0000 & -683572.6229 & 683598.8751  \\\\\n",
       "number\\_of\\_providers &  -0.0078 &      0.0001 & -135.6465 &      0.0000 &      -0.0079 &     -0.0076  \\\\\n",
       "alaska                &   8.4830 & 348779.5247 &    0.0000 &      1.0000 & -683586.8239 & 683603.7899  \\\\\n",
       "atlantic              &  11.6352 & 348824.0653 &    0.0000 &      1.0000 & -683670.9697 & 683694.2401  \\\\\n",
       "central               & -11.1952 & 348774.6481 &   -0.0000 &      1.0000 & -683596.9442 & 683574.5538  \\\\\n",
       "eastern               & -11.7578 & 348774.6481 &   -0.0000 &      1.0000 & -683597.5068 & 683573.9912  \\\\\n",
       "hawaii                &   7.0989 & 348775.2610 &    0.0000 &      1.0000 & -683579.8513 & 683594.0491  \\\\\n",
       "mountain              &  20.6610 & 349058.5525 &    0.0001 &      1.0000 & -684121.5305 & 684162.8524  \\\\\n",
       "pacific               & -11.7989 & 348774.6481 &   -0.0000 &      1.0000 & -683597.5479 & 683573.9501  \\\\\n",
       "\\hline\n",
       "\\end{tabular}\n",
       "\\end{center}\n",
       "\\end{table}\n",
       "\\bigskip\n"
      ],
      "text/plain": [
       "<class 'statsmodels.iolib.summary2.Summary'>\n",
       "\"\"\"\n",
       "                                  Results: Logit\n",
       "==================================================================================\n",
       "Model:                    Logit                 Method:                MLE        \n",
       "Dependent Variable:       in_range              Pseudo R-squared:      0.226      \n",
       "Date:                     2024-04-13 21:07      AIC:                   164534.9948\n",
       "No. Observations:         173987                BIC:                   164615.5287\n",
       "Df Model:                 7                     Log-Likelihood:        -82259.    \n",
       "Df Residuals:             173979                LL-Null:               -1.0628e+05\n",
       "Converged:                0.0000                LLR p-value:           0.0000     \n",
       "No. Iterations:           35.0000               Scale:                 1.0000     \n",
       "----------------------------------------------------------------------------------\n",
       "                     Coef.     Std.Err.      z     P>|z|     [0.025       0.975]  \n",
       "----------------------------------------------------------------------------------\n",
       "const                13.1261 348774.6481    0.0000 1.0000 -683572.6229 683598.8751\n",
       "number_of_providers  -0.0078      0.0001 -135.6465 0.0000      -0.0079     -0.0076\n",
       "alaska                8.4830 348779.5247    0.0000 1.0000 -683586.8239 683603.7899\n",
       "atlantic             11.6352 348824.0653    0.0000 1.0000 -683670.9697 683694.2401\n",
       "central             -11.1952 348774.6481   -0.0000 1.0000 -683596.9442 683574.5538\n",
       "eastern             -11.7578 348774.6481   -0.0000 1.0000 -683597.5068 683573.9912\n",
       "hawaii                7.0989 348775.2610    0.0000 1.0000 -683579.8513 683594.0491\n",
       "mountain             20.6610 349058.5525    0.0001 1.0000 -684121.5305 684162.8524\n",
       "pacific             -11.7989 348774.6481   -0.0000 1.0000 -683597.5479 683573.9501\n",
       "==================================================================================\n",
       "\n",
       "\"\"\""
      ]
     },
     "execution_count": 31,
     "metadata": {},
     "output_type": "execute_result"
    }
   ],
   "source": [
    "# logistic regression with manual rebalanced samples\n",
    "logreg01 = sm.Logit(y_train, X_1).fit()\n",
    "logreg01.summary2()"
   ]
  },
  {
   "cell_type": "markdown",
   "id": "7043abfa-8dff-4f9f-9d83-3e42be4a560f",
   "metadata": {},
   "source": [
    "**Validate Model**"
   ]
  },
  {
   "cell_type": "code",
   "execution_count": 32,
   "id": "d684b5c6-bf6a-4bc2-985d-cf468d9b57f2",
   "metadata": {},
   "outputs": [
    {
     "name": "stdout",
     "output_type": "stream",
     "text": [
      "Warning: Maximum number of iterations has been exceeded.\n",
      "         Current function value: 0.018569\n",
      "         Iterations: 35\n"
     ]
    },
    {
     "data": {
      "text/html": [
       "<table class=\"simpletable\">\n",
       "<tr>\n",
       "        <td>Model:</td>              <td>Logit</td>           <td>Method:</td>          <td>MLE</td>   \n",
       "</tr>\n",
       "<tr>\n",
       "  <td>Dependent Variable:</td>     <td>in_range</td>     <td>Pseudo R-squared:</td>    <td>0.050</td>  \n",
       "</tr>\n",
       "<tr>\n",
       "         <td>Date:</td>        <td>2024-04-13 21:07</td>       <td>AIC:</td>         <td>1527.9412</td>\n",
       "</tr>\n",
       "<tr>\n",
       "   <td>No. Observations:</td>        <td>40712</td>            <td>BIC:</td>         <td>1596.8555</td>\n",
       "</tr>\n",
       "<tr>\n",
       "       <td>Df Model:</td>              <td>7</td>         <td>Log-Likelihood:</td>    <td>-755.97</td> \n",
       "</tr>\n",
       "<tr>\n",
       "     <td>Df Residuals:</td>          <td>40704</td>          <td>LL-Null:</td>        <td>-795.67</td> \n",
       "</tr>\n",
       "<tr>\n",
       "      <td>Converged:</td>           <td>0.0000</td>        <td>LLR p-value:</td>    <td>1.8192e-14</td>\n",
       "</tr>\n",
       "<tr>\n",
       "    <td>No. Iterations:</td>        <td>35.0000</td>          <td>Scale:</td>         <td>1.0000</td>  \n",
       "</tr>\n",
       "</table>\n",
       "<table class=\"simpletable\">\n",
       "<tr>\n",
       "           <td></td>            <th>Coef.</th>    <th>Std.Err.</th>      <th>z</th>     <th>P>|z|</th>    <th>[0.025</th>        <th>0.975]</th>   \n",
       "</tr>\n",
       "<tr>\n",
       "  <th>const</th>               <td>13.8679</td> <td>2741263.5784</td> <td>0.0000</td>  <td>1.0000</td> <td>-5372764.0179</td> <td>5372791.7537</td>\n",
       "</tr>\n",
       "<tr>\n",
       "  <th>number_of_providers</th> <td>-0.0005</td>    <td>0.0001</td>    <td>-6.6766</td> <td>0.0000</td>    <td>-0.0006</td>       <td>-0.0003</td>  \n",
       "</tr>\n",
       "<tr>\n",
       "  <th>alaska</th>              <td>11.5456</td> <td>2741374.7899</td> <td>0.0000</td>  <td>1.0000</td> <td>-5372984.3106</td> <td>5373007.4019</td>\n",
       "</tr>\n",
       "<tr>\n",
       "  <th>atlantic</th>            <td>10.5497</td> <td>2741284.1835</td> <td>0.0000</td>  <td>1.0000</td> <td>-5372807.7214</td> <td>5372828.8208</td>\n",
       "</tr>\n",
       "<tr>\n",
       "  <th>central</th>             <td>-7.5848</td> <td>2741263.5784</td> <td>-0.0000</td> <td>1.0000</td> <td>-5372785.4706</td> <td>5372770.3010</td>\n",
       "</tr>\n",
       "<tr>\n",
       "  <th>eastern</th>             <td>-8.1821</td> <td>2741263.5784</td> <td>-0.0000</td> <td>1.0000</td> <td>-5372786.0680</td> <td>5372769.7037</td>\n",
       "</tr>\n",
       "<tr>\n",
       "  <th>hawaii</th>              <td>8.4529</td>  <td>2741269.5997</td> <td>0.0000</td>  <td>1.0000</td> <td>-5372781.2344</td> <td>5372798.1403</td>\n",
       "</tr>\n",
       "<tr>\n",
       "  <th>mountain</th>            <td>7.7365</td>  <td>2741263.7193</td> <td>0.0000</td>  <td>1.0000</td> <td>-5372770.4254</td> <td>5372785.8984</td>\n",
       "</tr>\n",
       "<tr>\n",
       "  <th>pacific</th>             <td>-8.6500</td> <td>2741263.5784</td> <td>-0.0000</td> <td>1.0000</td> <td>-5372786.5358</td> <td>5372769.2358</td>\n",
       "</tr>\n",
       "</table><br/>\n"
      ],
      "text/latex": [
       "\\begin{table}\n",
       "\\caption{Results: Logit}\n",
       "\\label{}\n",
       "\\begin{center}\n",
       "\\begin{tabular}{llll}\n",
       "\\hline\n",
       "Model:              & Logit            & Method:           & MLE         \\\\\n",
       "Dependent Variable: & in\\_range        & Pseudo R-squared: & 0.050       \\\\\n",
       "Date:               & 2024-04-13 21:07 & AIC:              & 1527.9412   \\\\\n",
       "No. Observations:   & 40712            & BIC:              & 1596.8555   \\\\\n",
       "Df Model:           & 7                & Log-Likelihood:   & -755.97     \\\\\n",
       "Df Residuals:       & 40704            & LL-Null:          & -795.67     \\\\\n",
       "Converged:          & 0.0000           & LLR p-value:      & 1.8192e-14  \\\\\n",
       "No. Iterations:     & 35.0000          & Scale:            & 1.0000      \\\\\n",
       "\\hline\n",
       "\\end{tabular}\n",
       "\\end{center}\n",
       "\n",
       "\\begin{center}\n",
       "\\begin{tabular}{lrrrrrr}\n",
       "\\hline\n",
       "                      &   Coef. &     Std.Err. &       z & P$> |$z$|$ &        [0.025 &       0.975]  \\\\\n",
       "\\hline\n",
       "const                 & 13.8679 & 2741263.5784 &  0.0000 &      1.0000 & -5372764.0179 & 5372791.7537  \\\\\n",
       "number\\_of\\_providers & -0.0005 &       0.0001 & -6.6766 &      0.0000 &       -0.0006 &      -0.0003  \\\\\n",
       "alaska                & 11.5456 & 2741374.7899 &  0.0000 &      1.0000 & -5372984.3106 & 5373007.4019  \\\\\n",
       "atlantic              & 10.5497 & 2741284.1835 &  0.0000 &      1.0000 & -5372807.7214 & 5372828.8208  \\\\\n",
       "central               & -7.5848 & 2741263.5784 & -0.0000 &      1.0000 & -5372785.4706 & 5372770.3010  \\\\\n",
       "eastern               & -8.1821 & 2741263.5784 & -0.0000 &      1.0000 & -5372786.0680 & 5372769.7037  \\\\\n",
       "hawaii                &  8.4529 & 2741269.5997 &  0.0000 &      1.0000 & -5372781.2344 & 5372798.1403  \\\\\n",
       "mountain              &  7.7365 & 2741263.7193 &  0.0000 &      1.0000 & -5372770.4254 & 5372785.8984  \\\\\n",
       "pacific               & -8.6500 & 2741263.5784 & -0.0000 &      1.0000 & -5372786.5358 & 5372769.2358  \\\\\n",
       "\\hline\n",
       "\\end{tabular}\n",
       "\\end{center}\n",
       "\\end{table}\n",
       "\\bigskip\n"
      ],
      "text/plain": [
       "<class 'statsmodels.iolib.summary2.Summary'>\n",
       "\"\"\"\n",
       "                                  Results: Logit\n",
       "==================================================================================\n",
       "Model:                     Logit                 Method:                MLE       \n",
       "Dependent Variable:        in_range              Pseudo R-squared:      0.050     \n",
       "Date:                      2024-04-13 21:07      AIC:                   1527.9412 \n",
       "No. Observations:          40712                 BIC:                   1596.8555 \n",
       "Df Model:                  7                     Log-Likelihood:        -755.97   \n",
       "Df Residuals:              40704                 LL-Null:               -795.67   \n",
       "Converged:                 0.0000                LLR p-value:           1.8192e-14\n",
       "No. Iterations:            35.0000               Scale:                 1.0000    \n",
       "----------------------------------------------------------------------------------\n",
       "                     Coef.    Std.Err.      z    P>|z|      [0.025       0.975]   \n",
       "----------------------------------------------------------------------------------\n",
       "const               13.8679 2741263.5784  0.0000 1.0000 -5372764.0179 5372791.7537\n",
       "number_of_providers -0.0005       0.0001 -6.6766 0.0000       -0.0006      -0.0003\n",
       "alaska              11.5456 2741374.7899  0.0000 1.0000 -5372984.3106 5373007.4019\n",
       "atlantic            10.5497 2741284.1835  0.0000 1.0000 -5372807.7214 5372828.8208\n",
       "central             -7.5848 2741263.5784 -0.0000 1.0000 -5372785.4706 5372770.3010\n",
       "eastern             -8.1821 2741263.5784 -0.0000 1.0000 -5372786.0680 5372769.7037\n",
       "hawaii               8.4529 2741269.5997  0.0000 1.0000 -5372781.2344 5372798.1403\n",
       "mountain             7.7365 2741263.7193  0.0000 1.0000 -5372770.4254 5372785.8984\n",
       "pacific             -8.6500 2741263.5784 -0.0000 1.0000 -5372786.5358 5372769.2358\n",
       "==================================================================================\n",
       "\n",
       "\"\"\""
      ]
     },
     "execution_count": 32,
     "metadata": {},
     "output_type": "execute_result"
    }
   ],
   "source": [
    "X_test1 = sm.add_constant(X_test)\n",
    "logreg01_test = sm.Logit(y_test, X_test1).fit()\n",
    "logreg01_test.summary2()"
   ]
  },
  {
   "cell_type": "markdown",
   "id": "d4669f8f-7476-455b-bfba-4d877b5f7750",
   "metadata": {},
   "source": [
    "Another way to validate the logistic regression model is to evaluate the ROC curve which shows how well a classification model can distinguish between the two classes (e.g., positive and negative) by plotting the rate of correct predictions (true positives) against the rate of incorrect predictions (false positives) at different decision thresholds."
   ]
  },
  {
   "cell_type": "code",
   "execution_count": 33,
   "id": "3f6b4678-598d-4565-aeed-739071fdf17e",
   "metadata": {},
   "outputs": [
    {
     "data": {
      "image/png": "[encoded data removed]",
      "text/plain": [
       "<Figure size 640x480 with 1 Axes>"
      ]
     },
     "metadata": {},
     "output_type": "display_data"
    }
   ],
   "source": [
    "logreg02 = LogisticRegression()\n",
    "logreg02.fit(X_train, y_train)\n",
    "y_pred_proba = logreg02.predict_proba(X_test)[:, 1]\n",
    "fpr, tpr, _ = metrics.roc_curve(y_test,  y_pred_proba)\n",
    "auc = metrics.roc_auc_score(y_test, y_pred_proba)\n",
    "\n",
    "plt.plot(fpr, tpr,label=\"AUC=\"+str(auc))\n",
    "plt.title('ROC curve for Logistic Regression Model')\n",
    "plt.ylabel('True Positive Rate')\n",
    "plt.xlabel('False Positive Rate')\n",
    "plt.legend(loc=4)\n",
    "plt.show()"
   ]
  },
  {
   "cell_type": "markdown",
   "id": "991dec82-16ac-4fdf-9027-28df4201a09e",
   "metadata": {},
   "source": [
    "The plot shows a high area under the ROC curve (AUC) which indicates that the model performed well at differentiate between the classes across different thresholds."
   ]
  },
  {
   "cell_type": "code",
   "execution_count": null,
   "id": "4c1355bb-dbcf-438b-8ac4-f05d2653bbbc",
   "metadata": {},
   "outputs": [],
   "source": []
  }
 ],
 "metadata": {
  "kernelspec": {
   "display_name": "Python 3 (ipykernel)",
   "language": "python",
   "name": "python3"
  },
  "language_info": {
   "codemirror_mode": {
    "name": "ipython",
    "version": 3
   },
   "file_extension": ".py",
   "mimetype": "text/x-python",
   "name": "python",
   "nbconvert_exporter": "python",
   "pygments_lexer": "ipython3",
   "version": "3.9.19"
  }
 },
 "nbformat": 4,
 "nbformat_minor": 5
}
